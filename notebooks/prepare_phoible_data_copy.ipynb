{
 "cells": [
  {
   "cell_type": "markdown",
   "metadata": {},
   "source": [
    "The [Phoible](https://phoible.org/) dataset contains phoneme inventories for thousands of languages and dialects. Many languages/dialicts have multiple Phoible records. Here, I'm mapping the data against pre-prepared IPA phoneme tables, then selecting one sample per table per language so that each language is only represented once in the final dataset (to avoid bias by oversampling).\n",
    "\n"
   ]
  },
  {
   "cell_type": "code",
   "execution_count": 1,
   "metadata": {},
   "outputs": [],
   "source": [
    "from pathlib import Path\n",
    "import requests\n",
    "from tqdm import tqdm\n",
    "import matplotlib.pyplot as plt\n",
    "\n",
    "%matplotlib inline\n",
    "import pandas as pd\n",
    "import numpy as np\n",
    "\n",
    "phoible_data_url = \"https://raw.githubusercontent.com/phoible/dev/v2.0/data/phoible.csv\"\n",
    "phobile_file_path = \"./downloads/phoible.csv\"\n",
    "\n",
    "VALIDATE_RESULTS = True\n",
    "\n",
    "if not Path(phobile_file_path).exists():\n",
    "    response = requests.get(phoible_data_url, stream=True)\n",
    "\n",
    "    with open(phobile_file_path, \"wb\") as fh:\n",
    "        for data in tqdm(response.iter_content()):\n",
    "            fh.write(data)"
   ]
  },
  {
   "cell_type": "code",
   "execution_count": 2,
   "metadata": {},
   "outputs": [
    {
     "data": {
      "text/plain": [
       "(38, 2)"
      ]
     },
     "execution_count": 2,
     "metadata": {},
     "output_type": "execute_result"
    }
   ],
   "source": [
    "ipa_diacritics_df = pd.read_csv(\n",
    "    \"./data/ipa_diacritics.csv\", dtype=str, encoding=\"utf-8\", engine=\"python\"\n",
    ")\n",
    "valid_suffixes = set(ipa_diacritics_df.suffix)\n",
    "ipa_diacritics_df.shape"
   ]
  },
  {
   "cell_type": "code",
   "execution_count": 3,
   "metadata": {},
   "outputs": [
    {
     "name": "stdout",
     "output_type": "stream",
     "text": [
      "num_lang 2949\n",
      "(105467, 5)\n"
     ]
    },
    {
     "data": {
      "text/html": [
       "<div>\n",
       "<style scoped>\n",
       "    .dataframe tbody tr th:only-of-type {\n",
       "        vertical-align: middle;\n",
       "    }\n",
       "\n",
       "    .dataframe tbody tr th {\n",
       "        vertical-align: top;\n",
       "    }\n",
       "\n",
       "    .dataframe thead th {\n",
       "        text-align: right;\n",
       "    }\n",
       "</style>\n",
       "<table border=\"1\" class=\"dataframe\">\n",
       "  <thead>\n",
       "    <tr style=\"text-align: right;\">\n",
       "      <th></th>\n",
       "      <th>ISO6393</th>\n",
       "      <th>LanguageName</th>\n",
       "      <th>SpecificDialect</th>\n",
       "      <th>Phoneme</th>\n",
       "      <th>GlyphID</th>\n",
       "    </tr>\n",
       "  </thead>\n",
       "  <tbody>\n",
       "    <tr>\n",
       "      <th>0</th>\n",
       "      <td>kor</td>\n",
       "      <td>Korean</td>\n",
       "      <td>none</td>\n",
       "      <td>a</td>\n",
       "      <td>0061</td>\n",
       "    </tr>\n",
       "    <tr>\n",
       "      <th>1</th>\n",
       "      <td>kor</td>\n",
       "      <td>Korean</td>\n",
       "      <td>none</td>\n",
       "      <td>aː</td>\n",
       "      <td>0061+02D0</td>\n",
       "    </tr>\n",
       "    <tr>\n",
       "      <th>2</th>\n",
       "      <td>kor</td>\n",
       "      <td>Korean</td>\n",
       "      <td>none</td>\n",
       "      <td>æ</td>\n",
       "      <td>00E6</td>\n",
       "    </tr>\n",
       "  </tbody>\n",
       "</table>\n",
       "</div>"
      ],
      "text/plain": [
       "  ISO6393 LanguageName SpecificDialect Phoneme    GlyphID\n",
       "0     kor       Korean            none       a       0061\n",
       "1     kor       Korean            none      aː  0061+02D0\n",
       "2     kor       Korean            none       æ       00E6"
      ]
     },
     "execution_count": 3,
     "metadata": {},
     "output_type": "execute_result"
    }
   ],
   "source": [
    "phoible_df = pd.read_csv(phobile_file_path, encoding=\"utf-8\", engine=\"python\")\n",
    "dialect_phonemes_df = (\n",
    "    phoible_df[[\"ISO6393\", \"LanguageName\", \"SpecificDialect\", \"Phoneme\", \"GlyphID\"]]\n",
    "    .copy()\n",
    "    .fillna({\"SpecificDialect\": \"none\"})\n",
    ")\n",
    "\n",
    "lang_by_dialect_df = dialect_phonemes_df.groupby([\"LanguageName\", \"SpecificDialect\"])\n",
    "\n",
    "language_names = (\n",
    "    dialect_phonemes_df[[\"LanguageName\", \"SpecificDialect\"]]\n",
    "    .drop_duplicates()\n",
    "    .reset_index(drop=True)\n",
    "    .to_numpy()[:, 0]\n",
    ")\n",
    "\n",
    "num_lang = len(lang_by_dialect_df)\n",
    "\n",
    "print(\"num_lang\", num_lang)\n",
    "print(dialect_phonemes_df.shape)\n",
    "\n",
    "dialect_phonemes_df.head(3)"
   ]
  },
  {
   "cell_type": "code",
   "execution_count": 11,
   "metadata": {},
   "outputs": [
    {
     "data": {
      "text/html": [
       "<div>\n",
       "<style scoped>\n",
       "    .dataframe tbody tr th:only-of-type {\n",
       "        vertical-align: middle;\n",
       "    }\n",
       "\n",
       "    .dataframe tbody tr th {\n",
       "        vertical-align: top;\n",
       "    }\n",
       "\n",
       "    .dataframe thead th {\n",
       "        text-align: right;\n",
       "    }\n",
       "</style>\n",
       "<table border=\"1\" class=\"dataframe\">\n",
       "  <thead>\n",
       "    <tr style=\"text-align: right;\">\n",
       "      <th></th>\n",
       "      <th>ISO6393</th>\n",
       "      <th>LanguageName</th>\n",
       "      <th>SpecificDialect</th>\n",
       "      <th>Phoneme</th>\n",
       "      <th>GlyphID</th>\n",
       "      <th>symbol</th>\n",
       "      <th>diacritics</th>\n",
       "    </tr>\n",
       "  </thead>\n",
       "  <tbody>\n",
       "    <tr>\n",
       "      <th>0</th>\n",
       "      <td>kor</td>\n",
       "      <td>Korean</td>\n",
       "      <td>none</td>\n",
       "      <td>a</td>\n",
       "      <td>0061</td>\n",
       "      <td>a</td>\n",
       "      <td></td>\n",
       "    </tr>\n",
       "    <tr>\n",
       "      <th>1</th>\n",
       "      <td>kor</td>\n",
       "      <td>Korean</td>\n",
       "      <td>none</td>\n",
       "      <td>aː</td>\n",
       "      <td>0061+02D0</td>\n",
       "      <td>a</td>\n",
       "      <td>ː</td>\n",
       "    </tr>\n",
       "    <tr>\n",
       "      <th>2</th>\n",
       "      <td>kor</td>\n",
       "      <td>Korean</td>\n",
       "      <td>none</td>\n",
       "      <td>æ</td>\n",
       "      <td>00E6</td>\n",
       "      <td>æ</td>\n",
       "      <td></td>\n",
       "    </tr>\n",
       "    <tr>\n",
       "      <th>3</th>\n",
       "      <td>kor</td>\n",
       "      <td>Korean</td>\n",
       "      <td>none</td>\n",
       "      <td>æː</td>\n",
       "      <td>00E6+02D0</td>\n",
       "      <td>æ</td>\n",
       "      <td>ː</td>\n",
       "    </tr>\n",
       "    <tr>\n",
       "      <th>4</th>\n",
       "      <td>kor</td>\n",
       "      <td>Korean</td>\n",
       "      <td>none</td>\n",
       "      <td>e</td>\n",
       "      <td>0065</td>\n",
       "      <td>e</td>\n",
       "      <td></td>\n",
       "    </tr>\n",
       "  </tbody>\n",
       "</table>\n",
       "</div>"
      ],
      "text/plain": [
       "  ISO6393 LanguageName SpecificDialect Phoneme    GlyphID symbol diacritics\n",
       "0     kor       Korean            none       a       0061      a           \n",
       "1     kor       Korean            none      aː  0061+02D0      a          ː\n",
       "2     kor       Korean            none       æ       00E6      æ           \n",
       "3     kor       Korean            none      æː  00E6+02D0      æ          ː\n",
       "4     kor       Korean            none       e       0065      e           "
      ]
     },
     "execution_count": 11,
     "metadata": {},
     "output_type": "execute_result"
    }
   ],
   "source": [
    "dialect_phonemes_df[\"symbol\"] = dialect_phonemes_df.Phoneme.str.split(\"\").apply(\n",
    "    lambda p: \"\".join([x for x in p if x != \"\" and x not in valid_suffixes])\n",
    ")\n",
    "dialect_phonemes_df[\"diacritics\"] = dialect_phonemes_df.Phoneme.str.split(\"\").apply(\n",
    "    lambda p: \"\".join([x for x in p if x != \"\" and x in valid_suffixes])\n",
    ")\n",
    "\n",
    "dialect_phonemes_df.head(5)"
   ]
  }
 ],
 "metadata": {
  "kernelspec": {
   "display_name": "wals",
   "language": "python",
   "name": "python3"
  },
  "language_info": {
   "codemirror_mode": {
    "name": "ipython",
    "version": 3
   },
   "file_extension": ".py",
   "mimetype": "text/x-python",
   "name": "python",
   "nbconvert_exporter": "python",
   "pygments_lexer": "ipython3",
   "version": "3.12.0"
  }
 },
 "nbformat": 4,
 "nbformat_minor": 2
}
