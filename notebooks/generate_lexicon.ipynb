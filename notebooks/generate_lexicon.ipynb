{
 "cells": [
  {
   "cell_type": "code",
   "execution_count": 43,
   "metadata": {},
   "outputs": [],
   "source": [
    "%reload_ext autoreload\n",
    "%autoreload 2\n",
    "import numpy as np\n",
    "import pandas as pd\n",
    "from IPython.display import display\n",
    "import matplotlib.pyplot as plt\n",
    "from conlanger.tools import SyllableStructures, Lexicon\n",
    "\n"
   ]
  },
  {
   "cell_type": "code",
   "execution_count": 44,
   "metadata": {},
   "outputs": [
    {
     "data": {
      "text/plain": [
       "((100, 24, 24), (100, 14, 24), (100, 7, 10), (100, 3, 4), (100, 7, 10))"
      ]
     },
     "execution_count": 44,
     "metadata": {},
     "output_type": "execute_result"
    }
   ],
   "source": [
    "data = np.load(\"./data/generated_languages.npz\", allow_pickle=True)\n",
    "generated_languages = np.squeeze(data[\"generated_languages\"])\n",
    "weirdness = data[\"weirdness\"]\n",
    "\n",
    "most_different = np.argmax(weirdness)\n",
    "least_different = np.argmin(weirdness)\n",
    "\n",
    "generated_cons_pl = generated_languages[:, 0:14, 0:24]\n",
    "generated_cons_npl = generated_languages[:, 15:22, 0:10]\n",
    "generated_cons_coart = generated_languages[:, 15:18, 10:14]\n",
    "generated_vowels = generated_languages[:, 15:22, 14:24]\n",
    "\n",
    "generated_languages.shape, generated_cons_pl.shape, generated_cons_npl.shape, generated_cons_coart.shape, generated_vowels.shape"
   ]
  },
  {
   "cell_type": "code",
   "execution_count": 45,
   "metadata": {},
   "outputs": [
    {
     "data": {
      "text/plain": [
       "((14, 24), (7, 10), (3, 4), (7, 10))"
      ]
     },
     "execution_count": 45,
     "metadata": {},
     "output_type": "execute_result"
    }
   ],
   "source": [
    "# load the phoneme table dataframes\n",
    "\n",
    "cons_pl_tbl_df = pd.read_csv(\n",
    "    \"./data/consonants_plumonic.csv\",\n",
    "    dtype=str,\n",
    "    index_col=[0],\n",
    "    keep_default_na=False,\n",
    "    na_values=[\"-1\"],\n",
    "    on_bad_lines=\"warn\",\n",
    ")\n",
    "\n",
    "cons_npl_tbl_df = pd.read_csv(\n",
    "    \"./data/consonants_non_plumonic.csv\",\n",
    "    dtype=str,\n",
    "    index_col=[0],\n",
    "    keep_default_na=False,\n",
    "    na_values=[\"-1\"],\n",
    ")\n",
    "\n",
    "cons_coart_tbl_df = pd.read_csv(\n",
    "    \"./data/consonants_coarticulated.csv\",\n",
    "    dtype=str,\n",
    "    index_col=[0],\n",
    "    keep_default_na=False,\n",
    "    na_values=[\"-1\"],\n",
    ")\n",
    "\n",
    "vowels_tbl_df = pd.read_csv(\n",
    "    \"./data/vowels.csv\",\n",
    "    dtype=str,\n",
    "    index_col=[0],\n",
    "    keep_default_na=False,\n",
    "    na_values=[\"-1\"],\n",
    ")\n",
    "\n",
    "cons_pl_tbl_df.shape, cons_npl_tbl_df.shape, cons_coart_tbl_df.shape, vowels_tbl_df.shape"
   ]
  },
  {
   "cell_type": "code",
   "execution_count": 46,
   "metadata": {},
   "outputs": [
    {
     "data": {
      "text/plain": [
       "((100, 14, 24), (100, 7, 10), (100, 3, 4), (100, 7, 10))"
      ]
     },
     "execution_count": 46,
     "metadata": {},
     "output_type": "execute_result"
    }
   ],
   "source": [
    "def map_generated_to_phonemes(tbl):\n",
    "    def mapper(lang):\n",
    "        return np.where(lang > 0, tbl.replace(np.nan, \"*\").replace(\"\", \"*\"), \"\")\n",
    "    return mapper\n",
    "    \n",
    "generated_cons_pl_phonemes = np.array([map_generated_to_phonemes(cons_pl_tbl_df)(p) for p in generated_cons_pl])\n",
    "generated_cons_npl_phonemes = np.array([map_generated_to_phonemes(cons_npl_tbl_df)(p) for p in generated_cons_npl])\n",
    "generated_cons_coart_phonemes = np.array([map_generated_to_phonemes(cons_coart_tbl_df)(p) for p in generated_cons_coart])\n",
    "generated_vowels_phonemes = np.array([map_generated_to_phonemes(vowels_tbl_df)(p) for p in generated_vowels])\n",
    "\n",
    "generated_cons_pl_phonemes.shape, generated_cons_npl_phonemes.shape, generated_cons_coart_phonemes.shape, generated_vowels_phonemes.shape"
   ]
  },
  {
   "cell_type": "code",
   "execution_count": 47,
   "metadata": {},
   "outputs": [
    {
     "name": "stdout",
     "output_type": "stream",
     "text": [
      "weirdness: 0.0\n",
      "consonants: ['b', 'd', 'f', 'h', 'j', 'k', 'l', 'm', 'n', 'p', 'r', 's', 't̠', 'w', 'x', 'ŋ', 'ɡ', 'ɹ', 'ʎ']\n",
      "vowels: ['i', 'u', 'ə']\n",
      "glides: ['j', 'w', 'ɹ']\n",
      "nasals: ['m', 'n', 'ŋ']\n",
      "\n",
      "weirdness: 0.5\n",
      "consonants: ['b', 'd', 'f', 'h', 'j', 'k', 'l', 'm', 'n', 'p', 'r', 's', 't', 'ts', 'w', 'z', 'ŋ', 'ɡ', 'ɾ', 'ʃ']\n",
      "vowels: ['a', 'e', 'i', 'o', 'u', 'ə', 'ɛ']\n",
      "glides: ['j', 'w']\n",
      "nasals: ['m', 'n', 'ŋ']\n",
      "\n",
      "weirdness: 1.0\n",
      "consonants: ['b', 'd', 'f', 'h', 'j', 'k', 'l', 'm', 'n', 'p', 'r', 's', 't', 'ts', 'v', 'w', 'z', 'ŋ', 'ɟ', 'ɡ', 'ɲ', 'ɾ', 'ʃ', 'ʔ']\n",
      "vowels: ['a', 'e', 'i', 'o', 'u', 'ə', 'ɛ']\n",
      "glides: ['j', 'w']\n",
      "nasals: ['m', 'n', 'ŋ', 'ɲ']\n",
      "\n"
     ]
    }
   ],
   "source": [
    "l = generated_languages.shape[0]\n",
    "\n",
    "consonants = [[c for c in np.unique(cs) if c != \"\"] for  cs in np.hstack([\n",
    "    generated_cons_pl_phonemes.reshape(l, -1),\n",
    "    generated_cons_npl_phonemes.reshape(l, -1),\n",
    "    generated_cons_coart_phonemes.reshape(l, -1),\n",
    "])]\n",
    "\n",
    "vowels = [[v for v in np.unique(vs) if v != \"\"] for  vs in generated_vowels_phonemes.reshape(l, -1)]\n",
    "glides = [[g for g in np.unique(gs) if g != \"\"] for gs in np.hstack([generated_cons_pl_phonemes[:, 6, :], generated_cons_coart_phonemes[:, 1, :]])]\n",
    "nasals = [[g for g in np.unique(gs) if g != \"\"] for gs in generated_cons_pl_phonemes[:, 0, :]]\n",
    "\n",
    "for x in [0.01, 0.49, 0.99]:\n",
    "    idx = np.abs(weirdness-x).argmin()\n",
    "    print(f\"weirdness: {weirdness[idx]}\")\n",
    "    print(f\"consonants: {consonants[idx]}\")\n",
    "    print(f\"vowels: {vowels[idx]}\")\n",
    "    print(f\"glides: {glides[idx]}\")\n",
    "    print(f\"nasals: {nasals[idx]}\\n\")"
   ]
  },
  {
   "cell_type": "code",
   "execution_count": 48,
   "metadata": {},
   "outputs": [
    {
     "data": {
      "text/html": [
       "<div>\n",
       "<style scoped>\n",
       "    .dataframe tbody tr th:only-of-type {\n",
       "        vertical-align: middle;\n",
       "    }\n",
       "\n",
       "    .dataframe tbody tr th {\n",
       "        vertical-align: top;\n",
       "    }\n",
       "\n",
       "    .dataframe thead th {\n",
       "        text-align: right;\n",
       "    }\n",
       "</style>\n",
       "<table border=\"1\" class=\"dataframe\">\n",
       "  <thead>\n",
       "    <tr style=\"text-align: right;\">\n",
       "      <th></th>\n",
       "      <th>meaning</th>\n",
       "      <th>topic</th>\n",
       "      <th>v</th>\n",
       "      <th>n</th>\n",
       "      <th>adj</th>\n",
       "      <th>adv</th>\n",
       "    </tr>\n",
       "  </thead>\n",
       "  <tbody>\n",
       "    <tr>\n",
       "      <th>27</th>\n",
       "      <td>be</td>\n",
       "      <td>function words</td>\n",
       "      <td>True</td>\n",
       "      <td>False</td>\n",
       "      <td>False</td>\n",
       "      <td>False</td>\n",
       "    </tr>\n",
       "    <tr>\n",
       "      <th>28</th>\n",
       "      <td>become</td>\n",
       "      <td>function words</td>\n",
       "      <td>True</td>\n",
       "      <td>False</td>\n",
       "      <td>False</td>\n",
       "      <td>False</td>\n",
       "    </tr>\n",
       "    <tr>\n",
       "      <th>29</th>\n",
       "      <td>cause</td>\n",
       "      <td>function words</td>\n",
       "      <td>True</td>\n",
       "      <td>False</td>\n",
       "      <td>False</td>\n",
       "      <td>False</td>\n",
       "    </tr>\n",
       "    <tr>\n",
       "      <th>30</th>\n",
       "      <td>make</td>\n",
       "      <td>function words</td>\n",
       "      <td>True</td>\n",
       "      <td>False</td>\n",
       "      <td>False</td>\n",
       "      <td>False</td>\n",
       "    </tr>\n",
       "    <tr>\n",
       "      <th>31</th>\n",
       "      <td>do</td>\n",
       "      <td>function words</td>\n",
       "      <td>True</td>\n",
       "      <td>False</td>\n",
       "      <td>False</td>\n",
       "      <td>False</td>\n",
       "    </tr>\n",
       "  </tbody>\n",
       "</table>\n",
       "</div>"
      ],
      "text/plain": [
       "   meaning           topic     v      n    adj    adv\n",
       "27      be  function words  True  False  False  False\n",
       "28  become  function words  True  False  False  False\n",
       "29   cause  function words  True  False  False  False\n",
       "30    make  function words  True  False  False  False\n",
       "31      do  function words  True  False  False  False"
      ]
     },
     "execution_count": 48,
     "metadata": {},
     "output_type": "execute_result"
    }
   ],
   "source": [
    "word_list_df = pd.read_csv(\n",
    "    \"./data/uld/annotated_word_list.csv\",\n",
    "    encoding=\"utf-8\",\n",
    "    engine=\"python\",\n",
    "    index_col=[0],\n",
    "    dtype={\"usage\": list},\n",
    ")\n",
    "\n",
    "word_list = word_list_df[\n",
    "    (word_list_df.v == 1)\n",
    "    | (word_list_df.n == 1)\n",
    "    | (word_list_df.adj == 1)\n",
    "    | (word_list_df.adv == 1)\n",
    "][[\"word\", \"topic\", \"v\", \"n\", \"adj\", \"adv\"]].rename(columns={\"word\": \"meaning\"})\n",
    "\n",
    "word_list.head(5)"
   ]
  },
  {
   "cell_type": "code",
   "execution_count": 49,
   "metadata": {},
   "outputs": [
    {
     "name": "stdout",
     "output_type": "stream",
     "text": [
      "weirdness: 0.1\n",
      "(C)V(C)(C)\n",
      "syllable: ja\n",
      "word: irmuɹpəɹ\n",
      "lexicon: aɹahmub,ʎə,u,ərhəɡilf,iwf\n",
      "\n",
      "\n",
      "weirdness: 0.5\n",
      "(C)(C)(C)V(C)(C)(C)(C)\n",
      "syllable: rhoh\n",
      "word: hats\n",
      "lexicon: snnɛ,tsemtɛmɾuhɾf,ɾfirʃŋɛ,bitb,zodmzʃ\n",
      "\n",
      "\n",
      "weirdness: 0.9\n",
      "(C)(G)V(N)\n",
      "syllable: jə\n",
      "word: am\n",
      "lexicon: ujeŋ,si,epwaɲɾən,ɾwiəmtsəm,juɲrwufə\n",
      "\n",
      "\n"
     ]
    }
   ],
   "source": [
    "for x in [0.1, 0.5, 0.9]:\n",
    "    idx = np.abs(weirdness - x).argmin()\n",
    "    ss = SyllableStructures()\n",
    "    structure = ss.pick(x)\n",
    "    print(f\"weirdness: {x}\")\n",
    "    print(f\"{structure}\")\n",
    "\n",
    "    lex = Lexicon(\n",
    "        syllable_structure=structure,\n",
    "        word_list=word_list.to_dict(\n",
    "            orient=\"records\"\n",
    "        ),\n",
    "        consonants=consonants[idx],\n",
    "        vowels=vowels[idx],\n",
    "        glides=glides[idx],\n",
    "        nasals=nasals[idx],\n",
    "    )\n",
    "\n",
    "    syllable = lex.create_syllable()\n",
    "    print(f\"syllable: {syllable}\")\n",
    "\n",
    "    word = lex.create_word()\n",
    "    print(f\"word: {word}\")\n",
    "\n",
    "    print(f\"lexicon: {str(lex[0:5])}\")\n",
    "\n",
    "    print(\"\\n\")"
   ]
  }
 ],
 "metadata": {
  "kernelspec": {
   "display_name": "conlanger",
   "language": "python",
   "name": "python3"
  },
  "language_info": {
   "codemirror_mode": {
    "name": "ipython",
    "version": 3
   },
   "file_extension": ".py",
   "mimetype": "text/x-python",
   "name": "python",
   "nbconvert_exporter": "python",
   "pygments_lexer": "ipython3",
   "version": "3.12.0"
  }
 },
 "nbformat": 4,
 "nbformat_minor": 2
}
