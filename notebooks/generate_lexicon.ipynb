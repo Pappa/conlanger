{
 "cells": [
  {
   "cell_type": "code",
   "execution_count": 110,
   "metadata": {},
   "outputs": [],
   "source": [
    "%reload_ext autoreload\n",
    "%autoreload 2\n",
    "import numpy as np\n",
    "import pandas as pd\n",
    "from IPython.display import display\n",
    "import matplotlib.pyplot as plt\n",
    "from conlanger.tools import SyllableStructures, Lexicon\n",
    "\n"
   ]
  },
  {
   "cell_type": "code",
   "execution_count": 111,
   "metadata": {},
   "outputs": [
    {
     "data": {
      "text/plain": [
       "((100, 24, 24), (100, 14, 24), (100, 7, 10), (100, 3, 4), (100, 7, 10))"
      ]
     },
     "execution_count": 111,
     "metadata": {},
     "output_type": "execute_result"
    }
   ],
   "source": [
    "data = np.load(\"./data/generated_languages.npz\", allow_pickle=True)\n",
    "generated_languages = np.squeeze(data[\"generated_languages\"])\n",
    "weirdness = data[\"weirdness\"]\n",
    "\n",
    "l = generated_languages.shape[0]\n",
    "\n",
    "most_different = np.argmax(weirdness)\n",
    "least_different = np.argmin(weirdness)\n",
    "\n",
    "generated_cons_pl = generated_languages[:, 0:14, 0:24]\n",
    "generated_cons_npl = generated_languages[:, 15:22, 0:10]\n",
    "generated_cons_coart = generated_languages[:, 15:18, 10:14]\n",
    "generated_vowels = generated_languages[:, 15:22, 14:24]\n",
    "\n",
    "generated_languages.shape, generated_cons_pl.shape, generated_cons_npl.shape, generated_cons_coart.shape, generated_vowels.shape"
   ]
  },
  {
   "cell_type": "code",
   "execution_count": 112,
   "metadata": {},
   "outputs": [
    {
     "data": {
      "text/plain": [
       "((14, 24), (7, 10), (3, 4), (7, 10))"
      ]
     },
     "execution_count": 112,
     "metadata": {},
     "output_type": "execute_result"
    }
   ],
   "source": [
    "# load the phoneme table dataframes\n",
    "\n",
    "cons_pl_tbl_df = pd.read_csv(\n",
    "    \"./data/consonants_plumonic.csv\",\n",
    "    dtype=str,\n",
    "    index_col=[0],\n",
    "    keep_default_na=False,\n",
    "    na_values=[\"-1\"],\n",
    "    on_bad_lines=\"warn\",\n",
    ")\n",
    "\n",
    "cons_npl_tbl_df = pd.read_csv(\n",
    "    \"./data/consonants_non_plumonic.csv\",\n",
    "    dtype=str,\n",
    "    index_col=[0],\n",
    "    keep_default_na=False,\n",
    "    na_values=[\"-1\"],\n",
    ")\n",
    "\n",
    "cons_coart_tbl_df = pd.read_csv(\n",
    "    \"./data/consonants_coarticulated.csv\",\n",
    "    dtype=str,\n",
    "    index_col=[0],\n",
    "    keep_default_na=False,\n",
    "    na_values=[\"-1\"],\n",
    ")\n",
    "\n",
    "vowels_tbl_df = pd.read_csv(\n",
    "    \"./data/vowels.csv\",\n",
    "    dtype=str,\n",
    "    index_col=[0],\n",
    "    keep_default_na=False,\n",
    "    na_values=[\"-1\"],\n",
    ")\n",
    "\n",
    "cons_pl_tbl_df.shape, cons_npl_tbl_df.shape, cons_coart_tbl_df.shape, vowels_tbl_df.shape"
   ]
  },
  {
   "cell_type": "code",
   "execution_count": 113,
   "metadata": {},
   "outputs": [
    {
     "data": {
      "text/plain": [
       "((100, 14, 24), (100, 7, 10), (100, 3, 4), (100, 7, 10))"
      ]
     },
     "execution_count": 113,
     "metadata": {},
     "output_type": "execute_result"
    }
   ],
   "source": [
    "def map_generated_to_phonemes(tbl):\n",
    "    def mapper(lang):\n",
    "        return np.where(lang > 0, tbl.replace(np.nan, \"*\").replace(\"\", \"*\"), \"\")\n",
    "    return mapper\n",
    "    \n",
    "generated_cons_pl_phonemes = np.array([map_generated_to_phonemes(cons_pl_tbl_df)(p) for p in generated_cons_pl])\n",
    "generated_cons_npl_phonemes = np.array([map_generated_to_phonemes(cons_npl_tbl_df)(p) for p in generated_cons_npl])\n",
    "generated_cons_coart_phonemes = np.array([map_generated_to_phonemes(cons_coart_tbl_df)(p) for p in generated_cons_coart])\n",
    "generated_vowels_phonemes = np.array([map_generated_to_phonemes(vowels_tbl_df)(p) for p in generated_vowels])\n",
    "\n",
    "# display(pd.DataFrame(generated_cons_pl_phonemes[5], index=cons_pl_tbl_df.index, columns=cons_pl_tbl_df.columns))\n",
    "# display(pd.DataFrame(generated_cons_npl_phonemes[5], index=cons_npl_tbl_df.index, columns=cons_npl_tbl_df.columns))\n",
    "# display(pd.DataFrame(generated_cons_coart_phonemes[5], index=cons_coart_tbl_df.index, columns=cons_coart_tbl_df.columns))\n",
    "# display(pd.DataFrame(generated_vowels_phonemes[5], index=vowels_tbl_df.index, columns=vowels_tbl_df.columns))\n",
    "\n",
    "generated_cons_pl_phonemes.shape, generated_cons_npl_phonemes.shape, generated_cons_coart_phonemes.shape, generated_vowels_phonemes.shape"
   ]
  },
  {
   "cell_type": "code",
   "execution_count": 114,
   "metadata": {},
   "outputs": [
    {
     "name": "stdout",
     "output_type": "stream",
     "text": [
      "weirdness: 0.0\n",
      "consonants: ['b', 'd', 'f', 'h', 'j', 'k', 'l', 'm', 'n', 'p', 'r', 's', 't̠', 'w', 'x', 'ŋ', 'ɡ', 'ɹ', 'ʎ']\n",
      "vowels: ['i', 'u', 'ə']\n",
      "glides: ['j', 'w', 'ɹ']\n",
      "nasals: ['m', 'n', 'ŋ']\n",
      "\n",
      "weirdness: 0.5\n",
      "consonants: ['b', 'd', 'f', 'h', 'j', 'k', 'l', 'm', 'n', 'p', 'r', 's', 't', 'ts', 'w', 'z', 'ŋ', 'ɡ', 'ɾ', 'ʃ']\n",
      "vowels: ['a', 'e', 'i', 'o', 'u', 'ə', 'ɛ']\n",
      "glides: ['j', 'w']\n",
      "nasals: ['m', 'n', 'ŋ']\n",
      "\n",
      "weirdness: 1.0\n",
      "consonants: ['b', 'd', 'f', 'h', 'j', 'k', 'l', 'm', 'n', 'p', 'r', 's', 't', 'ts', 'v', 'w', 'z', 'ŋ', 'ɟ', 'ɡ', 'ɲ', 'ɾ', 'ʃ', 'ʔ']\n",
      "vowels: ['a', 'e', 'i', 'o', 'u', 'ə', 'ɛ']\n",
      "glides: ['j', 'w']\n",
      "nasals: ['m', 'n', 'ŋ', 'ɲ']\n",
      "\n"
     ]
    }
   ],
   "source": [
    "consonants = [[c for c in np.unique(cs) if c != \"\"] for  cs in np.hstack([\n",
    "    generated_cons_pl_phonemes.reshape(l, -1),\n",
    "    generated_cons_npl_phonemes.reshape(l, -1),\n",
    "    generated_cons_coart_phonemes.reshape(l, -1),\n",
    "])]\n",
    "\n",
    "vowels = [[v for v in np.unique(vs) if v != \"\"] for  vs in generated_vowels_phonemes.reshape(l, -1)]\n",
    "glides = [[g for g in np.unique(gs) if g != \"\"] for gs in np.hstack([generated_cons_pl_phonemes[:, 6, :], generated_cons_coart_phonemes[:, 1, :]])]\n",
    "nasals = [[g for g in np.unique(gs) if g != \"\"] for gs in generated_cons_pl_phonemes[:, 0, :]]\n",
    "\n",
    "for x in [0.01, 0.49, 0.99]:\n",
    "    idx = np.abs(weirdness-x).argmin()\n",
    "    print(f\"weirdness: {weirdness[idx]}\")\n",
    "    print(f\"consonants: {consonants[idx]}\")\n",
    "    print(f\"vowels: {vowels[idx]}\")\n",
    "    print(f\"glides: {glides[idx]}\")\n",
    "    print(f\"nasals: {nasals[idx]}\\n\")"
   ]
  },
  {
   "cell_type": "code",
   "execution_count": 115,
   "metadata": {},
   "outputs": [
    {
     "data": {
      "text/html": [
       "<div>\n",
       "<style scoped>\n",
       "    .dataframe tbody tr th:only-of-type {\n",
       "        vertical-align: middle;\n",
       "    }\n",
       "\n",
       "    .dataframe tbody tr th {\n",
       "        vertical-align: top;\n",
       "    }\n",
       "\n",
       "    .dataframe thead th {\n",
       "        text-align: right;\n",
       "    }\n",
       "</style>\n",
       "<table border=\"1\" class=\"dataframe\">\n",
       "  <thead>\n",
       "    <tr style=\"text-align: right;\">\n",
       "      <th></th>\n",
       "      <th>meaning</th>\n",
       "      <th>topic</th>\n",
       "      <th>v</th>\n",
       "      <th>n</th>\n",
       "      <th>adj</th>\n",
       "      <th>adv</th>\n",
       "    </tr>\n",
       "  </thead>\n",
       "  <tbody>\n",
       "    <tr>\n",
       "      <th>27</th>\n",
       "      <td>be</td>\n",
       "      <td>function words</td>\n",
       "      <td>True</td>\n",
       "      <td>False</td>\n",
       "      <td>False</td>\n",
       "      <td>False</td>\n",
       "    </tr>\n",
       "    <tr>\n",
       "      <th>28</th>\n",
       "      <td>become</td>\n",
       "      <td>function words</td>\n",
       "      <td>True</td>\n",
       "      <td>False</td>\n",
       "      <td>False</td>\n",
       "      <td>False</td>\n",
       "    </tr>\n",
       "    <tr>\n",
       "      <th>29</th>\n",
       "      <td>cause</td>\n",
       "      <td>function words</td>\n",
       "      <td>True</td>\n",
       "      <td>False</td>\n",
       "      <td>False</td>\n",
       "      <td>False</td>\n",
       "    </tr>\n",
       "    <tr>\n",
       "      <th>30</th>\n",
       "      <td>make</td>\n",
       "      <td>function words</td>\n",
       "      <td>True</td>\n",
       "      <td>False</td>\n",
       "      <td>False</td>\n",
       "      <td>False</td>\n",
       "    </tr>\n",
       "    <tr>\n",
       "      <th>31</th>\n",
       "      <td>do</td>\n",
       "      <td>function words</td>\n",
       "      <td>True</td>\n",
       "      <td>False</td>\n",
       "      <td>False</td>\n",
       "      <td>False</td>\n",
       "    </tr>\n",
       "  </tbody>\n",
       "</table>\n",
       "</div>"
      ],
      "text/plain": [
       "   meaning           topic     v      n    adj    adv\n",
       "27      be  function words  True  False  False  False\n",
       "28  become  function words  True  False  False  False\n",
       "29   cause  function words  True  False  False  False\n",
       "30    make  function words  True  False  False  False\n",
       "31      do  function words  True  False  False  False"
      ]
     },
     "execution_count": 115,
     "metadata": {},
     "output_type": "execute_result"
    }
   ],
   "source": [
    "word_list_df = pd.read_csv(\n",
    "    \"./data/uld/annotated_word_list.csv\",\n",
    "    encoding=\"utf-8\",\n",
    "    engine=\"python\",\n",
    "    index_col=[0],\n",
    "    dtype={\"usage\": list},\n",
    ")\n",
    "\n",
    "word_list = word_list_df[\n",
    "    (word_list_df.v == 1)\n",
    "    | (word_list_df.n == 1)\n",
    "    | (word_list_df.adj == 1)\n",
    "    | (word_list_df.adv == 1)\n",
    "][[\"word\", \"topic\", \"v\", \"n\", \"adj\", \"adv\"]].rename(columns={\"word\": \"meaning\"})\n",
    "\n",
    "word_list.head(5)"
   ]
  },
  {
   "cell_type": "code",
   "execution_count": 121,
   "metadata": {},
   "outputs": [
    {
     "name": "stdout",
     "output_type": "stream",
     "text": [
      "weirdness: 0.1\n",
      "(C)V(C)(C)\n",
      "syllable: mimj\n",
      "word: ə\n",
      "lexicon: ŋaɹa,alt,əsuh,tənp,ləl,uluʎ,bit,hifw,ujhnitsib,ɹifidə,malr,bəunts,idbaɹɡif,akuŋts,ɡaf,aə,a,ind,ar,kiwsijtsŋəm,il,jius,əsr,hifŋjəbi,iwətnwuŋ,ətsdal,uʎ,ʎiats,paiɹnimm,sirpəw,uwɹu,ŋuhfət,tsəmrbuwafb,ikt,tapə,aɹfiŋkiɹ,fiwrifu,manɡ,uhddaɹŋəw,ulpəɹɡ,wiid,pib,pifhəʎik,nuwɡ,ləsəkaʎr,kuulʎəsb,iʎ,wuap,ij,idaspa,abutsəlts,mibhats,rusniŋəwɡ,wiŋ,nudj,ɡipaŋpaj,tsəs,itmsifts,wukjəts,ɹətə,wətuiɡ,jəpp,faŋ,in,nitu,ubkbin,ub,təwwi,ut,ŋaʎiə,ajil,liɡibfi,ikljakhaɹ,tsan,amhɡəkdlə,iŋf,ləpipfap,i,unuɡfaw,uiʎf,ud,unkikbi,kəɹn,i,fiwjif,ɹurimɡhəɡ,təwfək,uɹf,həsəd,rad,aɡu,siɡbumŋə,baliwf,kubd,ɹiwjdaad,pilɹiɹ,ŋitbɡas,ŋaɡjuɹ,amiŋ,bitət,uəbə,an,tsip,af,ədkəp,uŋutt,ibəb,isŋə,dishuut,auʎur,luŋɹu,itməɹtsku,ij,uɹwum,fi,ər,uswfaŋdənf,mədal,timatsddaŋ,əkduə,tsəɹɡ,aŋitjtsat,i,uɡpəɡdis,əɡɡuw,pabujts,ur,fəfəʎətɹ,uməhɹus,publwab,kanhəwp,ak,aibʎup,anah,əɹhtaəhh,ufifna,tsəwlfə,hihfər,ru,aisəd,asbəktat,usm,əɡ,əbhlidɹun,islmən,wihŋtsatj,ilifʎ,ə,ɹəwrəŋ,uahuwk,umat,ʎəl,jajl,iŋʎ,ɹii,tikənbutb,irapi,ʎəsafr,ɡəts,ijitsə,its,əə,ləs,sub,hər,fəba,ɹiwdudɡ,sən,ikdu,ənttap,iʎ,aɹəjɹŋa,aŋibɡjaw,lafmərrənw,la,fauki,ɡaʎ,latsmafruj,ijɹal,bəd,fiɡməjuɡ,aɹŋi,ɹaʎaa,wajuht,ap,wuŋji,əbhə,adabjənw,utmaiwʎ,ərmiŋəhr,puklubp,iɹɹistfi,natknik,i,ulanaɡ,ijtiɹas,masrədbak,uapllə,uɹl,matstʎijh,əŋlujwəf,iw,aʎisuw,hamfiwhun,hunuts,həʎ,ɹim,əŋjliki,sits,ut,udɹuk,əh,faŋtsudwujts,niɡ,mu,u,bi,u,kək,jupaku,uirməsm,ujsau,ŋupspia,əɡtsəsfə,wutin,əfʎər,ə,ləjaŋdəŋ,pəmiŋ,afsruiwk,ŋijɹ,katmiŋ,ətah,ʎə,ɡifjak,sukraʎm,ɹujf,əts,ɡaʎnuŋ,iblduutsr,əajkar,iɹwu,im,ər,jutsɹdisluʎ,u,tup,unsuh,inrŋuf,hujphasaŋk,ijitsjibr,inihl,ərnutdi,əafəsʎ,ɹufɡ,hasɡuts,əfun,puʎɡətsh,us,tupmur,ir,nap,tsəɡtŋəaŋɹ,miɡwiŋtsuɹɡ,ikf,balu,ʎəsisb,katsum,ut,əaf,rusə,pitsum,ɡiʎumr,jiut,ʎiŋaj,duwkiw,i,iumu,ŋiɡidawh,a,iljəs,ɹuharrə,nəhin,pirɹuj,əhkəip,uŋʎ,ihbiw,i,ətslu,dəkk,latits,irtlibdduʎ,fuwpəlra,ŋubʎniwm,tafuwuɹ,un,ulj,əmpuh,ləw,afsiŋaŋw,usukt,ɹuŋdid,bəptsaln,iməud,labi,fə,əɹŋəhb,diɹpəp,ikkjisa,ŋaɡ,punusftsa,ihkit,iɹəp,utbusat,firŋ,anih,əpiɹɹukf,uŋrruʎadr,mu,jiduk,iŋ,uɹ,uŋtfa,sili,ʎamimr,aŋ,urpaŋ,bits,ɹu,nusushfi,rətsɹəwtuh,əphin,ɹitststalpu,ihih,mapfə,iʎa,tuɡɡustiɡ,biətssəts,uɹraʎ,ŋəj,jə,akiŋha,ə,əmdəŋtsann,ikawts,iwusaɡ,əku,jaŋmŋabmə,u,najətsip,sunkad,mibbəl,məbttarrəw,fu,madəlnəŋ,ijusə,itst,ɹəpɹ,əkjaha,dəfəhij,urʎanu,taŋ,tsəw,muɡj,ɡə,dəsbudə,ətsla,ib,urwid,isumliɹ,jəmsa,uhmipfaŋw,ʎilut,ʎəh,ut,tsa,kə,ədŋum,usunəph,luw,haɡ,uɹəɡits,ilfkup,uhkuə,uhk,uɹbuməf,wusk,ən,atsɹamij,uh,iɡtsis,aɡəfak,umʎif,fəɡləl,isɹəʎm,liʎ,um,fa,ʎab,ə,əkar,isa,əw,əpnən,əbsəŋs,afbaws,ia,aalf,ŋər,ɡuʎ,supnar,ukhabɡuh,taiɹp,um,uɹ,u,tsaa,liɡ,ɹumuts,kif,al,fitsiis,pik,kəɹ,an,ɡəuaɡɡ,tilijmis,pi,ɹiaɡɹas,uəp,iʎəwfihj,ulim,usr,rabr,ku,nut,paŋʎ,tairu,at,kəpidɡɡaʎ,pəww,ɡikabwu,aɡ,ifkundɹə,ʎətsrəts,ilrfu,haɡtsə,ruurəʎ,aɡk,lu,laɡŋəduɹt,ŋudəw,up,a,waŋup,siwwakb,wəpartfu,wipsnujl,ats,aʎihʎ,ifn,amsəsɡus,ariɡʎi,amiwsə,saŋŋnupŋu,kidənhər,ju,utp,ʎəŋ,urkəkŋəb,kitsrna,əniwŋ,janjiɡuɡ,tiiɹəpl,jə,ad,əwəɡil,jut,pən,uʎsadup,ʎuɹajaɡ,awki,fidts,itsatfafj,ŋu,alkər,uw,əabahl,distsaw,ip,ahʎɡuwuɡ,wudədam,i,iɹətm,jamwənaw,i,ʎud,awilɡad,atnlutsja,ŋə,əfal,fəwjusɡ,jutbawʎadb,sitsʎid,kuŋə,kins,i,dəptskubs,tulbum,afərf,ʎip,atsup,ɡukɹbaɹhaŋ,fu,tsiŋanʎə,mimnəhdir,jiʎikŋəf,upnunm,ajrihwud,asha,ŋəuut,əŋʎtənɡub,tsaɹuwʎ,ʎaɹaf,kəfimab,kuɹ,ʎai,uɹəŋɹlal,saiɡr,ŋiktjar,puk,iwəfjit,ɡut,iiha,nil,dəɹdu,dul,muwasl,wiŋuɡ,utm,idi,i,ɡuŋiŋ,likəŋaŋ,əhmaɹuʎt,abha,ɡatsiksəs,ɡi,adkəwi,ʎutuafts,waratɡ,aʎi,əw,umbɹunihts,ʎəkiw,biul,ŋi,kəf,ɹausʎliw,həɡ,ŋətshəub,tafŋərus,ar,u,kidiskwaʎ,ɡahw,sum,ɹaspʎiɡ,dat,a,ihrəɡusw,wipə\n",
      "\n",
      "\n",
      "weirdness: 0.5\n",
      "(C)(C)(C)V(C)(C)\n",
      "syllable: ʃsoŋ\n",
      "word: rə\n",
      "lexicon: ŋhedpəb,hbaenwhdudw,nuz,ɛhwʃajwfŋəfm,daɾzlumɾork,muŋtmupp,ɾtok,ʃɡopwɡfɛɾɾ,wtsŋertsorɾmɾihk,rəkhɛbetsb,hwrɛɡdzuwŋfɾoht,tləɡkɾatspzŋemt,bsuttɾomjhpeɾts,bnafɡuʃ,jja,ŋpəjzohhaɾj,mfwospmadŋ,ebhlnhis,oʃtsksɛmkbɛs,pɛwət,tɛʃdsuzhfte,hajʃhɾubbɾdut,hhɡoznrisb,fo,wŋwekjŋadt,ŋtoitsd,ʃtadəuʃ,o,lhits,ɾbur,rel,prɛɾwoɡtsi,kɾesb,dɛtkzrne,sedl,bək,bmalʃef,kəjɡkɛkpkipŋ,zneŋɡtsɛɡɡə,pzɛp,nŋewdpə,ɡnəkp,rəŋltta,htsaŋəʃmkfi,hmɛl,lərtsjeb,zɛzj,lsɾen,əŋzolʃ,fuzpzor,oʃrutshlɛj,məjeʃhmdrit,jjɡeɾŋpenbɡow,kffi,stsij,ma,wwubʃdpjafw,sud,fʃəkamjis,whu,jiwɛɡ,tspekzmedhjir,snatl,sulbwud,nerʃlərjwɛʃ,wreɾ,tsaɾnfdnusznliɡ,ʃlbin,tsiŋkʃəfets,pablhukwsok,ɾwezkʃftsudŋki,kie,wərŋpo,bestsluŋwŋwɛr,ma,jottsəlmɾwob,mjubbɡtsɡɛtskɛb,jaw,brŋibzʃdkɛ,ŋɾɡa,jʃɛd,zurpəm,tkəwoɡzpŋajs,fobɡtseɾmɛwn,ʃɛmɛtjem,sal,wlebʃujj,nfokswettsə,tabŋɛ,zdildram,fʃadkɾuj,səptsuŋ,hɾɛtsadɛŋ,nfəʃtɾatskeh,tʃətɛttrsim,obfɡejd,lutlbmoŋk,eblznɛɡ,sejfɾunjtsdər,zɾɛnɛt,ʃoɡzfəw,mle,dfimnʃmfo,ehsu,hodəbf,ntsutɛnsof,ɾetslorklbaw,zɛkhəmtu,jtuɾuf,pətahn,dfosɾnuztsrəŋ,ammŋəmnfwoʃ,ʃrtsajpok,əj,məi,btʃah,dtsortsɛn,nɾhəjstsənejɡ,ahzspeɡʃpe,ntse,sbiŋɡəɡhtsrus,ɡwiʃwur,pɾo,kʃi,ɡŋiʃlɛhɡ,rnijmriŋs,kɾul,ultstsʃelz,ldo,hek,ŋəzswjlu,lapmʃnəb,ɡtsaɡpsmal,ɛkf,al,zufwpki,əldrep,ɾnɛɾob,satlaʃ,nsəztsmaw,tfoɡota,ŋats,boʃtsəɡtso,loe,ttinhul,bup,az,tsuɾik,emɛwnol,jʃeɾwzɡəfp,tsda,jhejʃ,ɛəŋmfdɛ,lbzujɾrir,af,wahmjiɾw,hɡotstsfoh,ɛkldkəs,moiɾ,htsəjwɡɛb,kkaɾŋ,rekfatraz,pik,rjojhɡŋim,hfohət,jekdətsoɡ,ŋəɾɾud,dkenwɛŋməf,muruɾ,ŋɛdipn,ɡozaun,tuʃʃŋrɛɡʃwu,dzo,tuhŋtsetpem,ɾənotɡahs,ɛrɡorʃzbmib,fajetstswdsuzs,ʃzəɾtʃfoktse,ɡzuh,waoŋb,rɡɾɛwdniɾzaʃ,hopʃuɡɡlawj,zfənk,rurhtal,oweŋɛs,jrolmtsəəp,jhi,jjofətʃ,hŋbu,fŋodmmaw,ŋimjalə,biɡbhmipwɛl,hspor,ftəj,rədkfump,bwohfziɾ,lotstʃɡi,rɾnəmk,ndɛkfsʃor,lɡid,ɡbet,tsinl,mwɛzs,bitɛt,fkkibʃetsh,ɾdu,wrteɡjlini,ɡjri,ɾlzur,fi,dɾaɡt,ɡɾewihfbnusʃ,iɾ,tsɛŋbəʃ,tsittuihs,njis,hərwehkfnitsts,jhɛzpu,nwetsfltsiʃttmets,kwboʃbŋridhun,ʃeɡ,ŋi,ilbəd,nnnəzsdəd,fəɾəɡʃaʃr,as,iɡbŋɛj,tzurwhab,zaɡos,ɾəldrimʃjpəs,slŋəŋɛɡɡəɡ,nozpɾtsut,dhɛtzlez,slabeɡ,ŋkɛ,e,wseb,lam,suz,ŋtsoɡmal,tsdəfeŋji,osɛffdzɛf,nɛɾk,pipɾtsɛmbawp,o,ŋdbilnjukd,ɾeltsə,tsetsztjsum,ki,loʃjpnlenmfzekŋ,pzaɾ,wməpr,bzakzujts,lmin,wti,htŋundrzasb,jwedbwim,rmiɾ,pepszwes,ʃbejzdəb,ʃlətmze,zɛpanw,zdəzref,mnlis,ʃŋeoms,nɛf,əɾɡ,un,ʃtsŋɛw,ɡij,ŋfiɡdoth,bopdɛsnip,ŋzitsŋtsɛwtfoɡ,ɾɛj,lef,mawtɾatl,ej,ɡzi,jonzirʃ,ʃsujts,hkɛssəar,dʃɡiʃsmil,ɾtsutshpbakts,dɾɛpstseŋduh,ɡuts,bkpaststsə,ef,ɾʃekldŋɛt,jkzuwɛd,ehpiɾulŋ,lok,lɾəɡbʃɛ,tsimihpzu,wawnkiŋjdfɛ,ʃərirɡ,a,fjkob,wəwŋʃa,zkilnpolor,fəɾʃtspwoɡ,mfzudomlzuʃ,wəw,rzoʃwɡhɡetah,pwəʃkmiza,pɾuŋtspikltuɾh,ludjəh,reuŋf,ljiks,kposnhom,woɡhɛzlpif,jɡzəwr,bluts,wbam,nət,jlwɛsɡbətf,wəfɡnrabwa,pfef,zɡŋahzi,znbəɾmkatred,ɡfdɛfubnŋul,eɡtɛdɛ,djikbtslɛ,ɾjotdnəeɡ,rubʃjadrbɛp,wrəp,ɡnʃostsɛŋr,hiɾw,ɡwoɾ,pstsəddetd,mɛ,omɾʃashkəsŋ,ndakspats,osbormfur,dopdel,jtsu,kauwbɡip,əm,amŋnbəɡ,fsoɾmɾep,sub,ɡilljəhəŋ,uhzŋbuk,nəʃphejpnikd,ha,ʃlməɾŋʃdtejl,ʃmiɾzɛnət,aplsa,rets,mtsuhʃmujnɛd,ɛ,ʃe,osʃ,jhzuwŋbɾʃəkk,idfʃetzdɛt,satsɡleb,weki,tbiraŋ,nte,tsɾɡiɡtujz,hetspkəlr,mzaɾɡnanweŋj,bif,ɛtsʃhjənm,ɾəɡwŋɛ,rkonfatlo,bəztsnits,tnats,tsoŋsi,bʃəsrde,eppɡɡsarməw,ih,latsridmtuz,jeɾmɛtjkir,bnɛntwij,el,ɾɛsdtas,fuhtsɾaɾzɾəh,tfjɛhp,ndjujtsdurb,zuhəkuw,həts,zdədrtultəts,hɛpɡot,tnalzipoɾm,əɾz,iftorɡub,pmumɛkifh,ɾŋaɡrltəwɾə,bʃed,baɡŋtsubb,bɛtltaŋh,tsŋhɛslo,wəfp,əjjʃhəɡho,ewjəll,ɛŋnzuʃfɾɛt,knjeahʃonk,fmufpbajəb,mŋəz,ɾnamŋwŋozzeh,kpbəɡkakwi,wkzotftakurz,sib,jaʃtsot,dim,ŋwanujjpwəfd,ʃɛl,tsijnɛf,nə,kduwmahŋ,ʃazzuŋkʃkə,ʃsɾɛʃ,njoŋif,lɛm,juj,kstetɾistaw,əjr,məts,uŋharwtsdwiw,oŋɾszɛhɡ,ɡnbezŋ,brəʃmadtsbitst,norəd,ndɛr,ajtreɾko,ŋofb,ləsemt,skedtitsszɾmuɡts,purʃskoj,sneɛtswɛt,jee,iʃzsɾa,əbdɛt,poj,bɛ,aj,ʃdonɾ,ʃokzeɾ,rres,zpkəjriɡɾo,mi,esmʃobɾiɾŋ,ɾim,zmdəʃɾojɾɡɡis,kwəb,tuknulem,dbfɛjwsəts,mʃoszɾut,tfihɾ,urtswpet,ʃɛ,mzabbim,ʃfə,ʃsefs,ɡnibwuŋpuj,ʃjnabrmkowɡtsloɡʃ,rɡujnibŋlɛdɾ,puntsdap,ab,dəɡbithfoɾf,zŋziwjuɡɡtojs,sɾasopaz,həmnfatd,u,jɾɾəɾmeɾdo,tsowtɛpda,ltikfbpəkh,zʃamjhɡiʃ,teʃrmwek,ssɡahwo,fedfu,ɾjahbuhʃŋaw,hɡkouf,ɛdtskɛrdfokh,ɾabhəʃɛsɡ,wəjkədnopʃ,ŋe,ŋɡinljosjəf,ɾərjlbpats,tttɛŋrɾadzlkək,ɡəŋmʃjijuz,rlukhand,sirmɛk,neɛrs,hneɾtu,bonpŋa,ztawrhɛ,hiɡruzam,ɾezmaw,bɛjak,tsəj,iɡ,ɡdən,diŋ,tsjesŋold,ʃjnuw,ɡuluɾ,ɛlhbŋor,sɾo,ndifŋuptsats,lɾeɡsda,sdɛmorɾjoj,jʃu,ŋjawrpɛkə,wzurd,mmanlŋetja,ŋpse,heŋr,ukdlahwenɡ,wʃɛŋtɾuf,surp,pfi,tjʃid,mɾekop,mɛda,ilɾɡtsutbɡumts,belrtsjwiɾrutst,tsuwhtjozɾɾow,tsɾɛz,ɾrwifʃɛ,ɡroprro,ptsnidɡelmɛʃʃ,rkɛ,az,bbiz,jbɛknjjifdʃu,otjofdes,bɛʃf,jdesiffub,ʃaɾ,tsʃəphŋnamr,nŋakfob,bun,ɛdtswərkoɡ,wajhədjdfmɛtl,wɡər,fhɾoztsawtər,wtsfɛmmeljɛf,wo,ɡooseʃ,patsofknut,ʃrufzktiɡwuk,tate,pfemtstit,enkɛŋɾɛdp,whɡerfɛme,ɾefzɛk,wəts,bəlmumtsuʃ,hɡizkŋə,iftsəɾs,ʃlɛku,jbaɾdor,ɾɛnj,pɡtopɡik,dunijwfe,ɾrət,a,hutuɡh,mposɛʃŋrzam,ɛwrəŋnə,zfaɾbifpblfə,ziɛɾtsʃnəw,totmwakbzjeŋr,səwɛŋɡrəmf,rɛ,wtsusɡɛst,ɛzpbəbʃukts,bpohŋu,ʃpi,sfɛf,tsuɡɾ\n",
      "\n",
      "\n",
      "weirdness: 0.9\n",
      "(C)(C)V(C)\n",
      "syllable: se\n",
      "word: jpud\n",
      "lexicon: im,veəma,tsbewnomduʃ,kip,vuwun,nil,seŋzu,ɲu,ʔipʃʃeŋ,ŋutsjavkwa,voɾoɲ,miw,ŋəi,aʔʔtsoʃ,ŋej,ɛehɛ,bi,ŋɛs,tsə,ɾɛnzŋekpvif,wɡɛʔə,bets,tsiwobɡe,ŋe,ŋur,mɛtszots,zi,jɛ,o,a,veiɲo,suɲ,pata,ʃə,mwi,lizmadiʔ,slɛk,ɡiwu,ɲɛveuh,ɡolhwɛɾ,metsuɡ,ʃon,supʔaʔjə,zeɡ,pumsek,berzsoɲe,fə,ɡaɾ,oəvtsi,ɛʔɛz,ɾə,tsu,tu,knine,dəwdŋuh,thuuʔef,aɡmi,uv,liʃ,ftsɛŋɛə,ɲor,ob,ŋɛkʃed,eɛʃdo,ʃəɲʔaɡu,uɡtsŋij,ju,ləŋ,ɾɛu,ɲhɛ,o,ɛŋzi,ɡtsetəməh,ʔinjoɲtlu,u,wnɛɲreɲ,iobad,azno,kzɛt,za,vep,ozneʔəts,aə,ʔesupɡnɛʃ,ihdaɡ,ɛpjwu,sa,səpipɛʔ,ɡomruɾas,ve,hro,ŋsa,ʔajfə,kɛətəw,o,luɲpə,sə,zɲozəb,jerfəlɛ,naʔriik,owi,ɛlem,ɾɛto,npə,tsəlʔamɛ,ɛstofsnets,tuthoɡtsi,hɛvo,ɾjobif,sŋubəpvɛʔ,fie,nɡifŋəɲzri,rər,arɡak,ʔfolsohpe,a,deɾ,rifkɡə,rɛh,ɾurɲɛtsfja,ɡɡɛts,ɡwezipɲe,vopwaʔ,hɛwʔəŋ,umɛp,bɛr,wʃupob,otsoji,tsats,jooʔɡuj,ʃtsemidə,fatsə,todisɛ,rizʔoha,od,lieʃ,koʃ,əjkij,hə,dunuɾɛ,ʔʔɛzu,midwafɛ,ko,əwkɛ,i,ʃo,ɛɾotsu,ŋoɡ,eŋ,vər,hɾɛitɛz,fo,mɛkefuh,ɲenəʔ,əɲi,itsmuwŋad,ʃatsər,ɛz,ŋɡɛta,ɲkɛ,jɡəsʃu,lsuɾəm,wɛ,ozna,fɛzfəon,irdəwvɛ,rɛedu,muuɾ,ebets,ɾɡurtuɾ,atji,ʃtufɾiɲə,ju,woɲaa,jej,ɛŋba,uj,pafra,ud,ək,pi,pjisu,zaefed,unmots,əru,usəz,əjsmewem,ɾeɡɲir,ibipe,ɲʔevŋispda,ida,nvuɾa,nŋəh,kowɡɲe,nobbu,ewɾnudja,ddomɛʃe,bit,zmuwwək,ʔɛz,ɡəvnɲovŋne,o,dəl,nmah,wofhop,joɡaɾjɛ,ɾɡebpu,oɡpruznə,ep,kajutstsa,kke,ipʃebə,zuzʃɾeplwəʃ,ʔuʃ,ruŋhbozsɾə,anŋehul,ʃɡuuɲ,ri,zea,ŋza,ɲe,luvpɛ,riarɛ,jfe,jəapuk,ɲo,əj,liir,ɲulə,amŋale,ŋʃeʃŋvi,tau,itskhɛʔɛts,etssois,ʔu,ɡəroə,omvobmluf,əh,sluf,ɡɛvek,kakze,tvuɾnədhus,aʃ,oʔɛsɛ,tsaw,vtsoŋubta,eɲwəmam,witsŋɲizə,nduɾatsi,fəp,jɾi,i,i,ʃubjusə,ʔotiɾ,sɡə,kɛ,ʃedɲuɲɡɲe,hef,owus,kirdɛ,rəvʃɛ,ɾɛdʔo,tsepotɛv,ə,majkoi,dɛjʔozrsu,zeɾɲɛʔdat,nɛf,vɛw,əm,pusdu,bjuəj,oko,dsuɡɛsər,ɛd,jowo,foŋɡɾɛ,biʃba,hunʃo,ɾʔəmuhtoʔ,ŋkawʔavŋə,mu,lɲosntseh,lɲə,ŋi,əɡen,zbu,mleu,vah,tofthuɾ,ʃɛtɾiza,bɛ,ŋfoaftɛʔ,məwhrefŋuw,huk,vnaəj,ɲɾewɡidi,remeb,tshuɡ,rokʔəɡro,eɡhe,dɛɡ,jbu,eʃ,fo,i,wabi,ʔɛbu,vvaʃ,doʔ,jsɛɾdfɛos,vok,a,keɲ,hbə,u,o,ozlipri,dwevɛvel,fiŋmis,miu,iwhoj,pɛwnəŋit,dsamɛ,kɛkaɾ,bbof,ke,ke,di,ɾɛb,ɾtunjuw,ʔənuv,iɲaruh,pliŋbəw,vəaɲon,ɛtsɛbə,mi,duʃpolvə,ɲmuvnoɲɡə,wu,tse,nəɲɡuas,dzibɾovjmoj,ʔepə,roʃ,wu,ʃaa,pits,kuzɛɲad,tefsetsɲu,re,ɾhuŋke,keɡwmets,apɛŋoɾ,mlɛ,o,rutor,atskel,ab,nobtsatsa,pnel,juh,ɾvunruɾɡduj,zetsa,zɛɡhuʃuk,nnerhpitɡtsi,uɲəɾ,ɛɲo,bihsʃu,ɲtiŋəhlɛ,məlaa,jtson,dar,vtɛbnoruw,vekʔu,budkin,ɡə,bɛbtjaɲ,vŋatɡatset,ɡə,madtsofɛv,huʃɲəp,vəbɛɡe,əkwɛjtu,ŋupevep,fhirfetɛ,mkaŋatsus,awiŋni,ɡʃokɲo,bɛs,ə,wu,bupleʔjot,hətsɲiʃsaj,jaɾɾhe,ɾŋofkovʃbaw,livtsaʔ,wujʃai,hubsetsjəw,ɲɛrupwet,ursaldɲa,ŋobwaf,rəʃsikʔeʔ,jituɛj,ʃofʔaŋ,ta,tsɡɛɛts,əʔnva,sɲətdɛvɾal,tsiɲʔiəɲ,tɛs,prove,muʃ,vkil,nizaɡhon,əʔtsʃɛnvwol,aefə,aɛom,sumvɛuŋ,ofulwud,krɛvɛnom,ɾakuf,lu,jiə,njitsɡar,ɲɾəɲu,ʔojŋəʔbe,ltsed,vɲəŋ,tɛ,ɛtsewttsɛp,ɡvutsjil,vuv,təɡ,watsʔa,u,drən,afer,brihtov,sɲal,bɛldənad,ɾiiɲmov,itshumtsoʃ,to,ɛlbɛim,re,ullɛŋ,eʃhə,sʔiɛ,ɛʃɲjeʃɛɡ,kʔiɾusrhez,ɲjaʃdə,bijwa,a,bhəɡirob,azjuvip,fiaʃju,ɛtsisur,əvɾmɛŋə,showvawuʃ,vonɾik,iʔʔduj,keɾ,ursə,zɲotsɡu,wɛfɾephne,ɛ,juʃhu,kzan,lowpapɡu,kʔiinhew,ei,ɲeɾkuda,ʃbɛts,ʃɛpʔav,ŋkezəuŋ,eɾkeɡ,ʃiblez,mi,oŋiha,nə,tti,bəli,nɛb,btɛf,raf,fewŋoɾ,dɛs,ŋʃəʔɛŋbpɛ,ɡokme,ihəa,tsuvonbwoʔ,hʔi,ʔoʃ,nvur,tu,zoetskhɛ,ɡantsut,praʔ,ɛf,tsə,ŋədɛwded,dur,dɾəs,uufjo,ɡu,vna,ʃəlboɡoɾ,dmarel,tsaflar,nɡɛbtuɾnɛ,vɛfmo,red,i,kmejlutstsbe,zonulɲi,ɾre,iəv,zəe,nɡussɛ,iʔtiɲ,bɛ,ootstseʔ,həmʔtodni,zef,ɲɲentɛ,ajtso,pfɛjtzəlo,ɛd,ləhe,e,jifnke,vbawɡveɡŋə,zuʔɲuʃi,əl,si,ɡŋe,ta,toŋɛ,əɾdazok,iʃkwuɡ,kalew,noʔ,foɲse,ŋim,daʃ,ɛmaʔ,ʃeɲmaw,ɾuod,ovaɡwar,ɛv,kakŋjətsʔas,pɛtswhoze,ʔikəf,ɾhɛf,haɲziəv,lazzəŋŋtsav,ʃhɛlur,ɛɾnɡɛni,ɛz,ɾazɛ,woʃɲəs,die,pupo,bɲɛleɛb,bɛ,ʃə,ramŋfezad,ʔɛb,hɛre,ŋsatsnŋe\n",
      "\n",
      "\n"
     ]
    }
   ],
   "source": [
    "for x in [0.1, 0.5, 0.9]:\n",
    "    idx = np.abs(weirdness - x).argmin()\n",
    "    ss = SyllableStructures()\n",
    "    structure = ss.pick(x)\n",
    "    print(f\"weirdness: {x}\")\n",
    "    print(f\"{structure}\")\n",
    "\n",
    "    lex = Lexicon(\n",
    "        syllable_structure=structure,\n",
    "        word_list=word_list.to_dict(\n",
    "            orient=\"records\"\n",
    "        ),\n",
    "        consonants=consonants[idx],\n",
    "        vowels=vowels[idx],\n",
    "        glides=glides[idx],\n",
    "        nasals=nasals[idx],\n",
    "    )\n",
    "\n",
    "    syllable = lex.create_syllable()\n",
    "    print(f\"syllable: {syllable}\")\n",
    "\n",
    "    word = lex.create_word()\n",
    "    print(f\"word: {word}\")\n",
    "\n",
    "    lexicon = lex.create()\n",
    "    print(f\"lexicon: {str(lexicon)}\")\n",
    "\n",
    "    print(\"\\n\")"
   ]
  }
 ],
 "metadata": {
  "kernelspec": {
   "display_name": "conlanger",
   "language": "python",
   "name": "python3"
  },
  "language_info": {
   "codemirror_mode": {
    "name": "ipython",
    "version": 3
   },
   "file_extension": ".py",
   "mimetype": "text/x-python",
   "name": "python",
   "nbconvert_exporter": "python",
   "pygments_lexer": "ipython3",
   "version": "3.12.0"
  }
 },
 "nbformat": 4,
 "nbformat_minor": 2
}
