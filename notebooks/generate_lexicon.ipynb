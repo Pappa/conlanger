{
 "cells": [
  {
   "cell_type": "code",
   "execution_count": 27,
   "metadata": {},
   "outputs": [],
   "source": [
    "%reload_ext autoreload\n",
    "%autoreload 2\n",
    "import numpy as np\n",
    "import pandas as pd\n",
    "from IPython.display import display\n",
    "import matplotlib.pyplot as plt\n",
    "\n"
   ]
  },
  {
   "cell_type": "code",
   "execution_count": 28,
   "metadata": {},
   "outputs": [
    {
     "data": {
      "text/plain": [
       "((100, 24, 24), (100, 14, 24), (100, 7, 10), (100, 3, 4), (100, 7, 10))"
      ]
     },
     "execution_count": 28,
     "metadata": {},
     "output_type": "execute_result"
    }
   ],
   "source": [
    "data = np.load(\"./data/generated_languages.npz\", allow_pickle=True)\n",
    "generated_languages = np.squeeze(data[\"generated_languages\"])\n",
    "weirdness = data[\"weirdness\"]\n",
    "\n",
    "l = generated_languages.shape[0]\n",
    "\n",
    "most_different = np.argmax(weirdness)\n",
    "least_different = np.argmin(weirdness)\n",
    "\n",
    "generated_cons_pl = generated_languages[:, 0:14, 0:24]\n",
    "generated_cons_npl = generated_languages[:, 15:22, 0:10]\n",
    "generated_cons_coart = generated_languages[:, 15:18, 10:14]\n",
    "generated_vowels = generated_languages[:, 15:22, 14:24]\n",
    "\n",
    "generated_languages.shape, generated_cons_pl.shape, generated_cons_npl.shape, generated_cons_coart.shape, generated_vowels.shape"
   ]
  },
  {
   "cell_type": "code",
   "execution_count": 29,
   "metadata": {},
   "outputs": [
    {
     "data": {
      "text/plain": [
       "((14, 24), (7, 10), (3, 4), (7, 10))"
      ]
     },
     "execution_count": 29,
     "metadata": {},
     "output_type": "execute_result"
    }
   ],
   "source": [
    "# load the phoneme table dataframes\n",
    "\n",
    "cons_pl_tbl_df = pd.read_csv(\n",
    "    \"./data/consonants_plumonic.csv\",\n",
    "    dtype=str,\n",
    "    index_col=[0],\n",
    "    keep_default_na=False,\n",
    "    na_values=[\"-1\"],\n",
    "    on_bad_lines=\"warn\",\n",
    ")\n",
    "\n",
    "cons_npl_tbl_df = pd.read_csv(\n",
    "    \"./data/consonants_non_plumonic.csv\",\n",
    "    dtype=str,\n",
    "    index_col=[0],\n",
    "    keep_default_na=False,\n",
    "    na_values=[\"-1\"],\n",
    ")\n",
    "\n",
    "cons_coart_tbl_df = pd.read_csv(\n",
    "    \"./data/consonants_coarticulated.csv\",\n",
    "    dtype=str,\n",
    "    index_col=[0],\n",
    "    keep_default_na=False,\n",
    "    na_values=[\"-1\"],\n",
    ")\n",
    "\n",
    "vowels_tbl_df = pd.read_csv(\n",
    "    \"./data/vowels.csv\",\n",
    "    dtype=str,\n",
    "    index_col=[0],\n",
    "    keep_default_na=False,\n",
    "    na_values=[\"-1\"],\n",
    ")\n",
    "\n",
    "cons_pl_tbl_df.shape, cons_npl_tbl_df.shape, cons_coart_tbl_df.shape, vowels_tbl_df.shape"
   ]
  },
  {
   "cell_type": "code",
   "execution_count": 30,
   "metadata": {},
   "outputs": [
    {
     "data": {
      "text/plain": [
       "((100, 14, 24), (100, 7, 10), (100, 3, 4), (100, 7, 10))"
      ]
     },
     "execution_count": 30,
     "metadata": {},
     "output_type": "execute_result"
    }
   ],
   "source": [
    "def map_generated_to_phonemes(tbl):\n",
    "    def mapper(lang):\n",
    "        return np.where(lang > 0, tbl.replace(np.nan, \"*\").replace(\"\", \"*\"), \"\")\n",
    "    return mapper\n",
    "    \n",
    "generated_cons_pl_phonemes = np.array([map_generated_to_phonemes(cons_pl_tbl_df)(p) for p in generated_cons_pl])\n",
    "generated_cons_npl_phonemes = np.array([map_generated_to_phonemes(cons_npl_tbl_df)(p) for p in generated_cons_npl])\n",
    "generated_cons_coart_phonemes = np.array([map_generated_to_phonemes(cons_coart_tbl_df)(p) for p in generated_cons_coart])\n",
    "generated_vowels_phonemes = np.array([map_generated_to_phonemes(vowels_tbl_df)(p) for p in generated_vowels])\n",
    "\n",
    "# display(pd.DataFrame(generated_cons_pl_phonemes[5], index=cons_pl_tbl_df.index, columns=cons_pl_tbl_df.columns))\n",
    "# display(pd.DataFrame(generated_cons_npl_phonemes[5], index=cons_npl_tbl_df.index, columns=cons_npl_tbl_df.columns))\n",
    "# display(pd.DataFrame(generated_cons_coart_phonemes[5], index=cons_coart_tbl_df.index, columns=cons_coart_tbl_df.columns))\n",
    "# display(pd.DataFrame(generated_vowels_phonemes[5], index=vowels_tbl_df.index, columns=vowels_tbl_df.columns))\n",
    "\n",
    "generated_cons_pl_phonemes.shape, generated_cons_npl_phonemes.shape, generated_cons_coart_phonemes.shape, generated_vowels_phonemes.shape"
   ]
  },
  {
   "cell_type": "code",
   "execution_count": 31,
   "metadata": {},
   "outputs": [
    {
     "name": "stdout",
     "output_type": "stream",
     "text": [
      "weirdness: 0.0\n",
      "consonants: ['b', 'd', 'f', 'h', 'j', 'k', 'l', 'm', 'n', 'p', 'r', 's', 't̠', 'w', 'x', 'ŋ', 'ɡ', 'ɹ', 'ʎ']\n",
      "vowels: ['i', 'u', 'ə']\n",
      "glides: ['j', 'w', 'ɹ']\n",
      "nasals: ['m', 'n', 'ŋ']\n",
      "\n",
      "weirdness: 0.5\n",
      "consonants: ['b', 'd', 'f', 'h', 'j', 'k', 'l', 'm', 'n', 'p', 'r', 's', 't', 'ts', 'w', 'z', 'ŋ', 'ɡ', 'ɾ', 'ʃ']\n",
      "vowels: ['a', 'e', 'i', 'o', 'u', 'ə', 'ɛ']\n",
      "glides: ['j', 'w']\n",
      "nasals: ['m', 'n', 'ŋ']\n",
      "\n",
      "weirdness: 1.0\n",
      "consonants: ['b', 'd', 'f', 'h', 'j', 'k', 'l', 'm', 'n', 'p', 'r', 's', 't', 'ts', 'v', 'w', 'z', 'ŋ', 'ɟ', 'ɡ', 'ɲ', 'ɾ', 'ʃ', 'ʔ']\n",
      "vowels: ['a', 'e', 'i', 'o', 'u', 'ə', 'ɛ']\n",
      "glides: ['j', 'w']\n",
      "nasals: ['m', 'n', 'ŋ', 'ɲ']\n",
      "\n"
     ]
    }
   ],
   "source": [
    "consonants = [[c for c in np.unique(cs) if c != \"\"] for  cs in np.hstack([\n",
    "    generated_cons_pl_phonemes.reshape(l, -1),\n",
    "    generated_cons_npl_phonemes.reshape(l, -1),\n",
    "    generated_cons_coart_phonemes.reshape(l, -1),\n",
    "])]\n",
    "\n",
    "vowels = [[v for v in np.unique(vs) if v != \"\"] for  vs in generated_vowels_phonemes.reshape(l, -1)]\n",
    "glides = [[g for g in np.unique(gs) if g != \"\"] for gs in np.hstack([generated_cons_pl_phonemes[:, 6, :], generated_cons_coart_phonemes[:, 1, :]])]\n",
    "nasals = [[g for g in np.unique(gs) if g != \"\"] for gs in generated_cons_pl_phonemes[:, 0, :]]\n",
    "\n",
    "for x in [0.01, 0.49, 0.99]:\n",
    "    idx = np.abs(weirdness-x).argmin()\n",
    "    print(f\"weirdness: {weirdness[idx]}\")\n",
    "    print(f\"consonants: {consonants[idx]}\")\n",
    "    print(f\"vowels: {vowels[idx]}\")\n",
    "    print(f\"glides: {glides[idx]}\")\n",
    "    print(f\"nasals: {nasals[idx]}\\n\")"
   ]
  },
  {
   "cell_type": "code",
   "execution_count": 85,
   "metadata": {},
   "outputs": [
    {
     "data": {
      "text/html": [
       "<div>\n",
       "<style scoped>\n",
       "    .dataframe tbody tr th:only-of-type {\n",
       "        vertical-align: middle;\n",
       "    }\n",
       "\n",
       "    .dataframe tbody tr th {\n",
       "        vertical-align: top;\n",
       "    }\n",
       "\n",
       "    .dataframe thead th {\n",
       "        text-align: right;\n",
       "    }\n",
       "</style>\n",
       "<table border=\"1\" class=\"dataframe\">\n",
       "  <thead>\n",
       "    <tr style=\"text-align: right;\">\n",
       "      <th></th>\n",
       "      <th>syllable_structure</th>\n",
       "      <th>counts</th>\n",
       "      <th>prob</th>\n",
       "    </tr>\n",
       "  </thead>\n",
       "  <tbody>\n",
       "    <tr>\n",
       "      <th>0</th>\n",
       "      <td>(C)V(C)</td>\n",
       "      <td>75</td>\n",
       "      <td>0.390625</td>\n",
       "    </tr>\n",
       "    <tr>\n",
       "      <th>1</th>\n",
       "      <td>(C)(C)V(C)(C)</td>\n",
       "      <td>46</td>\n",
       "      <td>0.239583</td>\n",
       "    </tr>\n",
       "    <tr>\n",
       "      <th>2</th>\n",
       "      <td>(C)(C)V(C)</td>\n",
       "      <td>31</td>\n",
       "      <td>0.161458</td>\n",
       "    </tr>\n",
       "    <tr>\n",
       "      <th>3</th>\n",
       "      <td>(C)V(C)(C)</td>\n",
       "      <td>17</td>\n",
       "      <td>0.088542</td>\n",
       "    </tr>\n",
       "    <tr>\n",
       "      <th>4</th>\n",
       "      <td>(C)(C)(C)V(C)(C)(C)</td>\n",
       "      <td>13</td>\n",
       "      <td>0.067708</td>\n",
       "    </tr>\n",
       "    <tr>\n",
       "      <th>5</th>\n",
       "      <td>(C)(C)V(C)(C)(C)</td>\n",
       "      <td>3</td>\n",
       "      <td>0.015625</td>\n",
       "    </tr>\n",
       "    <tr>\n",
       "      <th>6</th>\n",
       "      <td>(C)(C)(C)V(C)(C)</td>\n",
       "      <td>2</td>\n",
       "      <td>0.010417</td>\n",
       "    </tr>\n",
       "    <tr>\n",
       "      <th>7</th>\n",
       "      <td>(C)(G)V(N)</td>\n",
       "      <td>2</td>\n",
       "      <td>0.010417</td>\n",
       "    </tr>\n",
       "    <tr>\n",
       "      <th>8</th>\n",
       "      <td>(C)(C)(C)V(C)(C)(C)(C)</td>\n",
       "      <td>1</td>\n",
       "      <td>0.005208</td>\n",
       "    </tr>\n",
       "    <tr>\n",
       "      <th>9</th>\n",
       "      <td>(C)V(N)</td>\n",
       "      <td>1</td>\n",
       "      <td>0.005208</td>\n",
       "    </tr>\n",
       "    <tr>\n",
       "      <th>10</th>\n",
       "      <td>(C)(G)V(C)</td>\n",
       "      <td>1</td>\n",
       "      <td>0.005208</td>\n",
       "    </tr>\n",
       "  </tbody>\n",
       "</table>\n",
       "</div>"
      ],
      "text/plain": [
       "        syllable_structure  counts      prob\n",
       "0                  (C)V(C)      75  0.390625\n",
       "1            (C)(C)V(C)(C)      46  0.239583\n",
       "2               (C)(C)V(C)      31  0.161458\n",
       "3               (C)V(C)(C)      17  0.088542\n",
       "4      (C)(C)(C)V(C)(C)(C)      13  0.067708\n",
       "5         (C)(C)V(C)(C)(C)       3  0.015625\n",
       "6         (C)(C)(C)V(C)(C)       2  0.010417\n",
       "7               (C)(G)V(N)       2  0.010417\n",
       "8   (C)(C)(C)V(C)(C)(C)(C)       1  0.005208\n",
       "9                  (C)V(N)       1  0.005208\n",
       "10              (C)(G)V(C)       1  0.005208"
      ]
     },
     "execution_count": 85,
     "metadata": {},
     "output_type": "execute_result"
    }
   ],
   "source": [
    "syllable_structure_df = pd.read_csv(\n",
    "    \"./data/syllable_structure.csv\", dtype=str, encoding=\"utf-8\", engine=\"python\"\n",
    ").syllable_structure.value_counts().to_frame(\"counts\").reset_index()\n",
    "syllable_structure_df[\"prob\"] = syllable_structure_df.counts / syllable_structure_df.counts.sum()\n",
    "syllable_structure_df"
   ]
  },
  {
   "cell_type": "code",
   "execution_count": 196,
   "metadata": {},
   "outputs": [
    {
     "name": "stdout",
     "output_type": "stream",
     "text": [
      "weirdness: 0.01\n",
      "(C)(C)V(C)(C)\n",
      "\n",
      "weirdness: 0.49\n",
      "(C)(C)V(C)(C)\n",
      "\n",
      "weirdness: 0.99\n",
      "(C)V(C)(C)\n",
      "\n"
     ]
    }
   ],
   "source": [
    "for x in [0.01, 0.49, 0.99]:\n",
    "    print(f\"weirdness: {x}\")\n",
    "    prob = syllable_structure_df.prob.to_numpy().copy()\n",
    "    prob[np.random.rand(*prob.shape) < x] += x\n",
    "    prob = prob / prob.sum()\n",
    "    syllable_structure = np.random.choice(syllable_structure_df.syllable_structure, p=prob)\n",
    "    print(f\"{syllable_structure}\\n\")"
   ]
  }
 ],
 "metadata": {
  "kernelspec": {
   "display_name": "conlanger",
   "language": "python",
   "name": "python3"
  },
  "language_info": {
   "codemirror_mode": {
    "name": "ipython",
    "version": 3
   },
   "file_extension": ".py",
   "mimetype": "text/x-python",
   "name": "python",
   "nbconvert_exporter": "python",
   "pygments_lexer": "ipython3",
   "version": "3.12.4"
  }
 },
 "nbformat": 4,
 "nbformat_minor": 2
}
