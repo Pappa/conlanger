{
 "cells": [
  {
   "cell_type": "code",
   "execution_count": 1,
   "metadata": {},
   "outputs": [],
   "source": [
    "%reload_ext autoreload\n",
    "%autoreload 2\n",
    "import numpy as np\n",
    "import pandas as pd\n",
    "from IPython.display import display\n",
    "import matplotlib.pyplot as plt\n",
    "from conlanger.tools import SyllableStructure\n",
    "\n"
   ]
  },
  {
   "cell_type": "code",
   "execution_count": 2,
   "metadata": {},
   "outputs": [
    {
     "data": {
      "text/plain": [
       "((100, 24, 24), (100, 14, 24), (100, 7, 10), (100, 3, 4), (100, 7, 10))"
      ]
     },
     "execution_count": 2,
     "metadata": {},
     "output_type": "execute_result"
    }
   ],
   "source": [
    "data = np.load(\"./data/generated_languages.npz\", allow_pickle=True)\n",
    "generated_languages = np.squeeze(data[\"generated_languages\"])\n",
    "weirdness = data[\"weirdness\"]\n",
    "\n",
    "l = generated_languages.shape[0]\n",
    "\n",
    "most_different = np.argmax(weirdness)\n",
    "least_different = np.argmin(weirdness)\n",
    "\n",
    "generated_cons_pl = generated_languages[:, 0:14, 0:24]\n",
    "generated_cons_npl = generated_languages[:, 15:22, 0:10]\n",
    "generated_cons_coart = generated_languages[:, 15:18, 10:14]\n",
    "generated_vowels = generated_languages[:, 15:22, 14:24]\n",
    "\n",
    "generated_languages.shape, generated_cons_pl.shape, generated_cons_npl.shape, generated_cons_coart.shape, generated_vowels.shape"
   ]
  },
  {
   "cell_type": "code",
   "execution_count": 3,
   "metadata": {},
   "outputs": [
    {
     "data": {
      "text/plain": [
       "((14, 24), (7, 10), (3, 4), (7, 10))"
      ]
     },
     "execution_count": 3,
     "metadata": {},
     "output_type": "execute_result"
    }
   ],
   "source": [
    "# load the phoneme table dataframes\n",
    "\n",
    "cons_pl_tbl_df = pd.read_csv(\n",
    "    \"./data/consonants_plumonic.csv\",\n",
    "    dtype=str,\n",
    "    index_col=[0],\n",
    "    keep_default_na=False,\n",
    "    na_values=[\"-1\"],\n",
    "    on_bad_lines=\"warn\",\n",
    ")\n",
    "\n",
    "cons_npl_tbl_df = pd.read_csv(\n",
    "    \"./data/consonants_non_plumonic.csv\",\n",
    "    dtype=str,\n",
    "    index_col=[0],\n",
    "    keep_default_na=False,\n",
    "    na_values=[\"-1\"],\n",
    ")\n",
    "\n",
    "cons_coart_tbl_df = pd.read_csv(\n",
    "    \"./data/consonants_coarticulated.csv\",\n",
    "    dtype=str,\n",
    "    index_col=[0],\n",
    "    keep_default_na=False,\n",
    "    na_values=[\"-1\"],\n",
    ")\n",
    "\n",
    "vowels_tbl_df = pd.read_csv(\n",
    "    \"./data/vowels.csv\",\n",
    "    dtype=str,\n",
    "    index_col=[0],\n",
    "    keep_default_na=False,\n",
    "    na_values=[\"-1\"],\n",
    ")\n",
    "\n",
    "cons_pl_tbl_df.shape, cons_npl_tbl_df.shape, cons_coart_tbl_df.shape, vowels_tbl_df.shape"
   ]
  },
  {
   "cell_type": "code",
   "execution_count": 4,
   "metadata": {},
   "outputs": [
    {
     "data": {
      "text/plain": [
       "((100, 14, 24), (100, 7, 10), (100, 3, 4), (100, 7, 10))"
      ]
     },
     "execution_count": 4,
     "metadata": {},
     "output_type": "execute_result"
    }
   ],
   "source": [
    "def map_generated_to_phonemes(tbl):\n",
    "    def mapper(lang):\n",
    "        return np.where(lang > 0, tbl.replace(np.nan, \"*\").replace(\"\", \"*\"), \"\")\n",
    "    return mapper\n",
    "    \n",
    "generated_cons_pl_phonemes = np.array([map_generated_to_phonemes(cons_pl_tbl_df)(p) for p in generated_cons_pl])\n",
    "generated_cons_npl_phonemes = np.array([map_generated_to_phonemes(cons_npl_tbl_df)(p) for p in generated_cons_npl])\n",
    "generated_cons_coart_phonemes = np.array([map_generated_to_phonemes(cons_coart_tbl_df)(p) for p in generated_cons_coart])\n",
    "generated_vowels_phonemes = np.array([map_generated_to_phonemes(vowels_tbl_df)(p) for p in generated_vowels])\n",
    "\n",
    "# display(pd.DataFrame(generated_cons_pl_phonemes[5], index=cons_pl_tbl_df.index, columns=cons_pl_tbl_df.columns))\n",
    "# display(pd.DataFrame(generated_cons_npl_phonemes[5], index=cons_npl_tbl_df.index, columns=cons_npl_tbl_df.columns))\n",
    "# display(pd.DataFrame(generated_cons_coart_phonemes[5], index=cons_coart_tbl_df.index, columns=cons_coart_tbl_df.columns))\n",
    "# display(pd.DataFrame(generated_vowels_phonemes[5], index=vowels_tbl_df.index, columns=vowels_tbl_df.columns))\n",
    "\n",
    "generated_cons_pl_phonemes.shape, generated_cons_npl_phonemes.shape, generated_cons_coart_phonemes.shape, generated_vowels_phonemes.shape"
   ]
  },
  {
   "cell_type": "code",
   "execution_count": 5,
   "metadata": {},
   "outputs": [
    {
     "name": "stdout",
     "output_type": "stream",
     "text": [
      "weirdness: 0.0\n",
      "consonants: ['b', 'd', 'f', 'h', 'j', 'k', 'l', 'm', 'n', 'p', 'r', 's', 't̠', 'w', 'x', 'ŋ', 'ɡ', 'ɹ', 'ʎ']\n",
      "vowels: ['i', 'u', 'ə']\n",
      "glides: ['j', 'w', 'ɹ']\n",
      "nasals: ['m', 'n', 'ŋ']\n",
      "\n",
      "weirdness: 0.5\n",
      "consonants: ['b', 'd', 'f', 'h', 'j', 'k', 'l', 'm', 'n', 'p', 'r', 's', 't', 'ts', 'w', 'z', 'ŋ', 'ɡ', 'ɾ', 'ʃ']\n",
      "vowels: ['a', 'e', 'i', 'o', 'u', 'ə', 'ɛ']\n",
      "glides: ['j', 'w']\n",
      "nasals: ['m', 'n', 'ŋ']\n",
      "\n",
      "weirdness: 1.0\n",
      "consonants: ['b', 'd', 'f', 'h', 'j', 'k', 'l', 'm', 'n', 'p', 'r', 's', 't', 'ts', 'v', 'w', 'z', 'ŋ', 'ɟ', 'ɡ', 'ɲ', 'ɾ', 'ʃ', 'ʔ']\n",
      "vowels: ['a', 'e', 'i', 'o', 'u', 'ə', 'ɛ']\n",
      "glides: ['j', 'w']\n",
      "nasals: ['m', 'n', 'ŋ', 'ɲ']\n",
      "\n"
     ]
    }
   ],
   "source": [
    "consonants = [[c for c in np.unique(cs) if c != \"\"] for  cs in np.hstack([\n",
    "    generated_cons_pl_phonemes.reshape(l, -1),\n",
    "    generated_cons_npl_phonemes.reshape(l, -1),\n",
    "    generated_cons_coart_phonemes.reshape(l, -1),\n",
    "])]\n",
    "\n",
    "vowels = [[v for v in np.unique(vs) if v != \"\"] for  vs in generated_vowels_phonemes.reshape(l, -1)]\n",
    "glides = [[g for g in np.unique(gs) if g != \"\"] for gs in np.hstack([generated_cons_pl_phonemes[:, 6, :], generated_cons_coart_phonemes[:, 1, :]])]\n",
    "nasals = [[g for g in np.unique(gs) if g != \"\"] for gs in generated_cons_pl_phonemes[:, 0, :]]\n",
    "\n",
    "for x in [0.01, 0.49, 0.99]:\n",
    "    idx = np.abs(weirdness-x).argmin()\n",
    "    print(f\"weirdness: {weirdness[idx]}\")\n",
    "    print(f\"consonants: {consonants[idx]}\")\n",
    "    print(f\"vowels: {vowels[idx]}\")\n",
    "    print(f\"glides: {glides[idx]}\")\n",
    "    print(f\"nasals: {nasals[idx]}\\n\")"
   ]
  },
  {
   "cell_type": "code",
   "execution_count": 6,
   "metadata": {},
   "outputs": [
    {
     "name": "stdout",
     "output_type": "stream",
     "text": [
      "weirdness: 0.01\n",
      "(C)(C)V(C)(C)\n",
      "\n",
      "weirdness: 0.49\n",
      "(C)(C)V(C)(C)\n",
      "\n",
      "weirdness: 0.99\n",
      "(C)(G)V(N)\n",
      "\n"
     ]
    }
   ],
   "source": [
    "for x in [0.01, 0.49, 0.99]:\n",
    "    ss = SyllableStructure()\n",
    "    structure = ss.pick(x)\n",
    "    print(f\"weirdness: {x}\")\n",
    "    print(f\"{structure}\\n\")"
   ]
  }
 ],
 "metadata": {
  "kernelspec": {
   "display_name": "conlanger",
   "language": "python",
   "name": "python3"
  },
  "language_info": {
   "codemirror_mode": {
    "name": "ipython",
    "version": 3
   },
   "file_extension": ".py",
   "mimetype": "text/x-python",
   "name": "python",
   "nbconvert_exporter": "python",
   "pygments_lexer": "ipython3",
   "version": "3.12.4"
  }
 },
 "nbformat": 4,
 "nbformat_minor": 2
}
