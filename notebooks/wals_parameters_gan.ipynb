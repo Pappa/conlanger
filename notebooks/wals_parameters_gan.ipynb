{
 "cells": [
  {
   "cell_type": "code",
   "execution_count": 357,
   "metadata": {},
   "outputs": [],
   "source": [
    "%reload_ext autoreload\n",
    "%autoreload 2\n",
    "import numpy as np\n",
    "import pandas as pd\n",
    "import tensorflow as tf\n",
    "from keras import (\n",
    "    Input,\n",
    "    Sequential,\n",
    "    layers,\n",
    "    callbacks,\n",
    "    optimizers,\n",
    ")\n",
    "from conlanger.models.WGANGP import WGANGP\n",
    "from conlanger.utils import display_rows, get_closest_matches, get_exact_matches_indices\n",
    "from IPython.display import display\n",
    "\n"
   ]
  },
  {
   "cell_type": "code",
   "execution_count": 358,
   "metadata": {},
   "outputs": [],
   "source": [
    "USE_GPU = False\n",
    "TRAIN = False"
   ]
  },
  {
   "cell_type": "code",
   "execution_count": 359,
   "metadata": {},
   "outputs": [],
   "source": [
    "if USE_GPU:\n",
    "    with tf.device('/gpu:0'):\n",
    "        gpu = tf.config.list_physical_devices(\"GPU\")\n",
    "        if not gpu:\n",
    "            raise"
   ]
  },
  {
   "cell_type": "code",
   "execution_count": 360,
   "metadata": {},
   "outputs": [],
   "source": [
    "IMAGE_SIZE = 14\n",
    "CHANNELS = 1\n",
    "BATCH_SIZE = 512\n",
    "Z_DIM = IMAGE_SIZE * IMAGE_SIZE\n",
    "CRITIC_LEARNING_RATE = 0.0002\n",
    "GENERATOR_LEARNING_RATE = 0.0008\n",
    "EPOCHS = 600\n",
    "CRITIC_STEPS = 5\n",
    "GP_WEIGHT = 10.0\n",
    "LOAD_MODEL = False\n",
    "ADAM_BETA_1 = 0.5\n",
    "ADAM_BETA_2 = 0.9\n",
    "NUM_LANGS = 100\n",
    "STEPS_PER_EPOCH = 3\n",
    "REPEAT_DATA = 30"
   ]
  },
  {
   "cell_type": "code",
   "execution_count": 361,
   "metadata": {},
   "outputs": [
    {
     "data": {
      "text/plain": [
       "((852, 188), (852, 2), (188, 2), (852, 14, 14, 1), 196)"
      ]
     },
     "execution_count": 361,
     "metadata": {},
     "output_type": "execute_result"
    }
   ],
   "source": [
    "data = np.load(\"./data/language_parameters.npz\", allow_pickle=True)\n",
    "language_parameters = data[\"language_parameters\"]\n",
    "languages = data[\"languages\"]\n",
    "parameters = data[\"parameters\"]\n",
    "\n",
    "l = language_parameters.shape[0]\n",
    "\n",
    "X = np.hstack([language_parameters.copy(), np.zeros((l, 8))]).reshape(l, IMAGE_SIZE, IMAGE_SIZE)\n",
    "X = np.expand_dims(X, axis=3)\n",
    "\n",
    "MAX_VALUE = X.max()\n",
    "\n",
    "X /= MAX_VALUE\n",
    "\n",
    "assert language_parameters.shape[0] == languages.shape[0]\n",
    "\n",
    "language_parameters.shape, languages.shape, parameters.shape, X.shape, Z_DIM"
   ]
  },
  {
   "cell_type": "code",
   "execution_count": 362,
   "metadata": {},
   "outputs": [],
   "source": [
    "if TRAIN:\n",
    "    critic = Sequential(\n",
    "        [\n",
    "            Input(shape=X.shape[1:]),\n",
    "            layers.Conv2D(IMAGE_SIZE, kernel_size=3, strides=2, padding=\"same\"),\n",
    "            layers.LeakyReLU(0.1),\n",
    "            layers.Conv2D(IMAGE_SIZE * 2, kernel_size=3, strides=2, padding=\"same\"),\n",
    "            layers.LeakyReLU(0.1),\n",
    "            #layers.Dropout(0.1),\n",
    "            layers.Conv2D(IMAGE_SIZE * 4, kernel_size=3, strides=2, padding=\"same\"),\n",
    "            layers.LeakyReLU(0.1),\n",
    "            #layers.Dropout(0.1),\n",
    "            layers.Conv2D(IMAGE_SIZE * 8, kernel_size=3, strides=2, padding=\"same\"),\n",
    "            layers.LeakyReLU(0.1),\n",
    "            #layers.Dropout(0.1),\n",
    "            layers.Conv2D(IMAGE_SIZE * IMAGE_SIZE, kernel_size=2, strides=1, padding=\"same\"),\n",
    "            layers.LeakyReLU(0.1),\n",
    "            #layers.Dropout(0.1),\n",
    "            layers.Flatten(),\n",
    "        ],\n",
    "        name=\"critic\",\n",
    "    )\n",
    "    critic.summary()"
   ]
  },
  {
   "cell_type": "code",
   "execution_count": 363,
   "metadata": {},
   "outputs": [],
   "source": [
    "if TRAIN:\n",
    "    generator = Sequential(\n",
    "        [\n",
    "            Input(shape=(Z_DIM,)),\n",
    "            layers.Reshape((1, 1, Z_DIM)),\n",
    "            layers.Conv2DTranspose(\n",
    "                IMAGE_SIZE * IMAGE_SIZE, kernel_size=4, strides=2, padding=\"valid\", use_bias=False\n",
    "            ),\n",
    "            layers.GaussianDropout(0.4),\n",
    "            layers.Conv2D(\n",
    "                IMAGE_SIZE * 8, kernel_size=4, strides=2, padding=\"same\", use_bias=False\n",
    "            ),\n",
    "            layers.BatchNormalization(momentum=0.9),\n",
    "            layers.LeakyReLU(0.2),\n",
    "            layers.GaussianDropout(0.4),\n",
    "            layers.Conv2D(\n",
    "                IMAGE_SIZE * 4, kernel_size=4, strides=2, padding=\"same\", use_bias=False\n",
    "            ),\n",
    "            layers.BatchNormalization(momentum=0.9),\n",
    "            layers.LeakyReLU(0.2),\n",
    "            layers.Conv2DTranspose(\n",
    "                IMAGE_SIZE * 2, kernel_size=4, strides=2, padding=\"same\", use_bias=False\n",
    "            ),\n",
    "            layers.LeakyReLU(0.2),\n",
    "            layers.Conv2DTranspose(\n",
    "                IMAGE_SIZE * 2, kernel_size=2, strides=2, padding=\"same\", use_bias=False\n",
    "            ),\n",
    "            layers.GaussianDropout(0.4),\n",
    "            layers.Conv2D(IMAGE_SIZE * 2, kernel_size=2, strides=2, padding=\"same\", use_bias=False),\n",
    "            layers.BatchNormalization(momentum=0.9),\n",
    "            layers.LeakyReLU(0.2),\n",
    "            layers.Conv2DTranspose(\n",
    "                IMAGE_SIZE * 2, kernel_size=2, strides=2, padding=\"same\", use_bias=False\n",
    "            ),\n",
    "            layers.GaussianDropout(0.4),\n",
    "            layers.Conv2D(IMAGE_SIZE * 4, kernel_size=2, strides=4, padding=\"same\", use_bias=False),\n",
    "            layers.BatchNormalization(momentum=0.9),\n",
    "            layers.LeakyReLU(0.2),\n",
    "            layers.Conv2DTranspose(\n",
    "                IMAGE_SIZE * IMAGE_SIZE, kernel_size=8, strides=1, padding=\"same\", activation=\"sigmoid\"\n",
    "            ),\n",
    "            layers.Reshape(X.shape[1:]),\n",
    "        ],\n",
    "        name=\"generator\",\n",
    "    )\n",
    "    generator.summary()"
   ]
  },
  {
   "cell_type": "code",
   "execution_count": 364,
   "metadata": {},
   "outputs": [],
   "source": [
    "# Create a GAN\n",
    "if TRAIN:\n",
    "    wgangp = WGANGP(\n",
    "        critic=critic,\n",
    "        generator=generator,\n",
    "        latent_dim=Z_DIM,\n",
    "        critic_steps=CRITIC_STEPS,\n",
    "        gp_weight=GP_WEIGHT,\n",
    "    )"
   ]
  },
  {
   "cell_type": "code",
   "execution_count": 365,
   "metadata": {},
   "outputs": [],
   "source": [
    "# Compile the GAN\n",
    "if TRAIN:\n",
    "    wgangp.compile(\n",
    "        c_optimizer=optimizers.Adam(\n",
    "            learning_rate=CRITIC_LEARNING_RATE, beta_1=ADAM_BETA_1, beta_2=ADAM_BETA_2\n",
    "        ),\n",
    "        g_optimizer=optimizers.Adam(\n",
    "            learning_rate=GENERATOR_LEARNING_RATE, beta_1=ADAM_BETA_1, beta_2=ADAM_BETA_2\n",
    "        ),\n",
    "    )"
   ]
  },
  {
   "cell_type": "code",
   "execution_count": 366,
   "metadata": {},
   "outputs": [],
   "source": [
    "import matplotlib.pyplot as plt\n",
    "\n",
    "\n",
    "class ImageGenerator(callbacks.Callback):\n",
    "    def __init__(self, latent_dim, num_img=10, display_on_epoch=10, figsize=(28, 28)):\n",
    "        self.num_img = num_img\n",
    "        self.latent_dim = latent_dim\n",
    "        self.display_on_epoch = display_on_epoch\n",
    "        self.figsize = figsize\n",
    "\n",
    "    def on_epoch_end(self, epoch, logs=None):\n",
    "        if epoch % self.display_on_epoch == 0:\n",
    "            random_latent_vectors = tf.random.normal(\n",
    "                shape=(self.num_img, self.latent_dim)\n",
    "            )\n",
    "            generated_images = self.model.generator(random_latent_vectors).numpy()\n",
    "            plt.figure(figsize=self.figsize)\n",
    "\n",
    "            for i in range(self.num_img):\n",
    "                _ = plt.subplot(1, self.num_img, i + 1)\n",
    "                plt.imshow(generated_images[i].astype(\"float32\"), cmap=\"copper_r\")\n",
    "                plt.axis(\"off\")\n",
    "            \n",
    "            plt.show()"
   ]
  },
  {
   "cell_type": "code",
   "execution_count": 367,
   "metadata": {},
   "outputs": [],
   "source": [
    "if TRAIN:\n",
    "    dataset = tf.data.Dataset.from_tensors(X.astype(\"float32\")).repeat(REPEAT_DATA)\n",
    "\n",
    "    history = wgangp.fit(\n",
    "        dataset,\n",
    "        epochs=EPOCHS,\n",
    "        steps_per_epoch=STEPS_PER_EPOCH,\n",
    "        callbacks=[\n",
    "            ImageGenerator(latent_dim=Z_DIM),\n",
    "        ],\n",
    "    )"
   ]
  },
  {
   "cell_type": "code",
   "execution_count": 368,
   "metadata": {},
   "outputs": [],
   "source": [
    "import matplotlib.pyplot as plt\n",
    "\n",
    "if TRAIN:\n",
    "    plt.plot(history.history['c_loss'])\n",
    "    plt.plot(history.history['g_loss'])\n",
    "    plt.title('GAN loss')\n",
    "    plt.ylabel('loss')\n",
    "    plt.xlabel('epoch')\n",
    "    plt.legend(['critic', 'generator'], loc='upper left')\n",
    "    plt.show()"
   ]
  },
  {
   "cell_type": "code",
   "execution_count": 369,
   "metadata": {},
   "outputs": [
    {
     "data": {
      "image/png": "[encoded data removed]",
      "text/plain": [
       "<Figure size 1200x400 with 12 Axes>"
      ]
     },
     "metadata": {},
     "output_type": "display_data"
    },
    {
     "data": {
      "text/plain": [
       "(100, 14, 14, 1)"
      ]
     },
     "execution_count": 369,
     "metadata": {},
     "output_type": "execute_result"
    }
   ],
   "source": [
    "if TRAIN:\n",
    "    noise = np.random.normal(size=(NUM_LANGS, Z_DIM))\n",
    "    generated_language_parameters = wgangp.generator.predict(noise)\n",
    "    l = generated_language_parameters.shape[0]\n",
    "\n",
    "    # normalise\n",
    "    generated_language_parameters = (generated_language_parameters-np.min(generated_language_parameters))/(np.max(generated_language_parameters)-np.min(generated_language_parameters))\n",
    "\n",
    "    # weirdness\n",
    "    mean_lang = np.mean(X, axis=0).reshape(-1)\n",
    "    diff_from_mean = np.array([np.mean(np.abs(mean_lang - g)) for g in generated_language_parameters])\n",
    "    weirdness = np.round((diff_from_mean-np.min(diff_from_mean))/(np.max(diff_from_mean)-np.min(diff_from_mean)), decimals=2)\n",
    "\n",
    "    np.savez_compressed(\n",
    "        \"./data/generated_language_parameters.npz\",\n",
    "        generated_language_parameters=generated_language_parameters,\n",
    "        weirdness=weirdness\n",
    "    )\n",
    "\n",
    "else:\n",
    "    data = np.load(\"./data/generated_language_parameters.npz\", allow_pickle=True)\n",
    "    generated_language_parameters = data[\"generated_language_parameters\"]\n",
    "    weirdness = data[\"weirdness\"]\n",
    "    l = generated_language_parameters.shape[0]\n",
    "\n",
    "generated = (generated_language_parameters * MAX_VALUE).astype(int)\n",
    "\n",
    "assert len(generated) == len(weirdness)\n",
    "\n",
    "display_rows(generated, cmap=\"copper_r\", r=2, c=6, size=(12, 4))\n",
    "\n",
    "generated.shape"
   ]
  },
  {
   "cell_type": "code",
   "execution_count": 370,
   "metadata": {},
   "outputs": [
    {
     "data": {
      "image/png": "[encoded data removed]",
      "text/plain": [
       "<Figure size 1200x400 with 12 Axes>"
      ]
     },
     "metadata": {},
     "output_type": "display_data"
    },
    {
     "data": {
      "image/png": "[encoded data removed]",
      "text/plain": [
       "<Figure size 1200x400 with 12 Axes>"
      ]
     },
     "metadata": {},
     "output_type": "display_data"
    },
    {
     "data": {
      "text/plain": [
       "(0.07653061224489796, 0.16622448979591842, 0.6020408163265306)"
      ]
     },
     "execution_count": 370,
     "metadata": {},
     "output_type": "execute_result"
    }
   ],
   "source": [
    "# find closest matches\n",
    "origin = (X * MAX_VALUE).astype(int)\n",
    "\n",
    "closest_idx, closest, closest_diff = get_closest_matches(origin, generated, n=NUM_LANGS)\n",
    "closest_language_names = np.take(languages[:, 1], closest_idx)\n",
    "\n",
    "display_rows(closest, titles=closest_language_names, cmap=\"copper_r\", r=2, c=6, size=(12, 4))\n",
    "\n",
    "# random samples\n",
    "gen = np.random.default_rng()\n",
    "sample_indices = gen.choice(origin.shape[0], 12, replace=False)\n",
    "samples = origin[sample_indices]\n",
    "sample_names = languages[:, 1][sample_indices]\n",
    "\n",
    "display_rows(samples, titles=sample_names, cmap=\"copper_r\", r=2, c=6, size=(12, 4))\n",
    "\n",
    "np.min(closest_diff), np.mean(closest_diff), np.max(closest_diff)"
   ]
  },
  {
   "cell_type": "code",
   "execution_count": 371,
   "metadata": {},
   "outputs": [
    {
     "name": "stdout",
     "output_type": "stream",
     "text": [
      "No exact matches. Noice!\n"
     ]
    },
    {
     "data": {
      "text/plain": [
       "((852, 14, 14, 1), (0,))"
      ]
     },
     "execution_count": 371,
     "metadata": {},
     "output_type": "execute_result"
    }
   ],
   "source": [
    "# find exact matches\n",
    "\n",
    "exact_idx = get_exact_matches_indices(origin, generated)\n",
    "exact = np.take(X, exact_idx)\n",
    "exact_language_names = np.take(languages[:, 1], exact_idx)\n",
    "\n",
    "if len(exact_idx) > 0:\n",
    "    display_rows(exact, titles=exact_language_names, cmap=\"copper_r\", r=3, c=6, size=(12, 6))\n",
    "else:\n",
    "    print(\"No exact matches. Noice!\")\n",
    "\n",
    "origin.shape, exact_idx.shape"
   ]
  },
  {
   "cell_type": "code",
   "execution_count": 372,
   "metadata": {},
   "outputs": [
    {
     "data": {
      "text/plain": [
       "((18800, 3), (188, 2))"
      ]
     },
     "execution_count": 372,
     "metadata": {},
     "output_type": "execute_result"
    }
   ],
   "source": [
    "l = generated.shape[0]\n",
    "w = parameters.shape[0]\n",
    "\n",
    "generated_parameters = np.c_[\n",
    "    np.tile(np.arange(l)[:, None, None], (1, w, 1)), \n",
    "    np.tile(parameters[:, 0:1], (l, 1, 1)), \n",
    "    generated.reshape(l, -1, 1)[:, 0:w]\n",
    "].reshape((l*w, 3))\n",
    "\n",
    "generated_parameters.shape, parameters.shape"
   ]
  },
  {
   "cell_type": "code",
   "execution_count": 373,
   "metadata": {},
   "outputs": [
    {
     "data": {
      "text/html": [
       "<div>\n",
       "<style scoped>\n",
       "    .dataframe tbody tr th:only-of-type {\n",
       "        vertical-align: middle;\n",
       "    }\n",
       "\n",
       "    .dataframe tbody tr th {\n",
       "        vertical-align: top;\n",
       "    }\n",
       "\n",
       "    .dataframe thead th {\n",
       "        text-align: right;\n",
       "    }\n",
       "</style>\n",
       "<table border=\"1\" class=\"dataframe\">\n",
       "  <thead>\n",
       "    <tr style=\"text-align: right;\">\n",
       "      <th></th>\n",
       "      <th></th>\n",
       "      <th>ID</th>\n",
       "      <th>Name</th>\n",
       "    </tr>\n",
       "    <tr>\n",
       "      <th>Area</th>\n",
       "      <th>Chapter</th>\n",
       "      <th></th>\n",
       "      <th></th>\n",
       "    </tr>\n",
       "  </thead>\n",
       "  <tbody>\n",
       "    <tr>\n",
       "      <th rowspan=\"3\" valign=\"top\">Phonology</th>\n",
       "      <th>Consonant Inventories</th>\n",
       "      <td>1A</td>\n",
       "      <td>Consonant Inventories</td>\n",
       "    </tr>\n",
       "    <tr>\n",
       "      <th>Vowel Quality Inventories</th>\n",
       "      <td>2A</td>\n",
       "      <td>Vowel Quality Inventories</td>\n",
       "    </tr>\n",
       "    <tr>\n",
       "      <th>Consonant-Vowel Ratio</th>\n",
       "      <td>3A</td>\n",
       "      <td>Consonant-Vowel Ratio</td>\n",
       "    </tr>\n",
       "  </tbody>\n",
       "</table>\n",
       "</div>"
      ],
      "text/plain": [
       "                                     ID                       Name\n",
       "Area      Chapter                                                 \n",
       "Phonology Consonant Inventories      1A      Consonant Inventories\n",
       "          Vowel Quality Inventories  2A  Vowel Quality Inventories\n",
       "          Consonant-Vowel Ratio      3A      Consonant-Vowel Ratio"
      ]
     },
     "metadata": {},
     "output_type": "display_data"
    },
    {
     "data": {
      "text/html": [
       "<div>\n",
       "<style scoped>\n",
       "    .dataframe tbody tr th:only-of-type {\n",
       "        vertical-align: middle;\n",
       "    }\n",
       "\n",
       "    .dataframe tbody tr th {\n",
       "        vertical-align: top;\n",
       "    }\n",
       "\n",
       "    .dataframe thead th {\n",
       "        text-align: right;\n",
       "    }\n",
       "</style>\n",
       "<table border=\"1\" class=\"dataframe\">\n",
       "  <thead>\n",
       "    <tr style=\"text-align: right;\">\n",
       "      <th></th>\n",
       "      <th>ID</th>\n",
       "      <th>Name</th>\n",
       "      <th>Description</th>\n",
       "      <th>Number</th>\n",
       "    </tr>\n",
       "  </thead>\n",
       "  <tbody>\n",
       "    <tr>\n",
       "      <th>0</th>\n",
       "      <td>1A</td>\n",
       "      <td>Small</td>\n",
       "      <td>Small</td>\n",
       "      <td>1</td>\n",
       "    </tr>\n",
       "    <tr>\n",
       "      <th>1</th>\n",
       "      <td>1A</td>\n",
       "      <td>Moderately small</td>\n",
       "      <td>Moderately small</td>\n",
       "      <td>2</td>\n",
       "    </tr>\n",
       "    <tr>\n",
       "      <th>2</th>\n",
       "      <td>1A</td>\n",
       "      <td>Average</td>\n",
       "      <td>Average</td>\n",
       "      <td>3</td>\n",
       "    </tr>\n",
       "  </tbody>\n",
       "</table>\n",
       "</div>"
      ],
      "text/plain": [
       "   ID              Name       Description  Number\n",
       "0  1A             Small             Small       1\n",
       "1  1A  Moderately small  Moderately small       2\n",
       "2  1A           Average           Average       3"
      ]
     },
     "metadata": {},
     "output_type": "display_data"
    }
   ],
   "source": [
    "from cldfbench import get_dataset\n",
    "\n",
    "wals = get_dataset(\"wals\").cldf_reader()\n",
    "\n",
    "param_df = (\n",
    "    pd.DataFrame(wals.iter_rows(\"ParameterTable\"))\n",
    "    .set_index([\"Area\", \"Chapter\"])\n",
    "    .drop(columns=[\"Description\", \"Contributor_ID\"])\n",
    ")\n",
    "\n",
    "param_df = param_df[\n",
    "    ~param_df.index.get_level_values(\"Area\").isin([\"Sign Languages\", \"Other\"])\n",
    "]\n",
    "\n",
    "display(param_df.head(3))\n",
    "\n",
    "code_df = pd.DataFrame(wals.iter_rows(\"CodeTable\"))[[\"Parameter_ID\", \"Name\", \"Description\", \"Number\"]].rename(columns={\"Parameter_ID\":\"ID\"})\n",
    "\n",
    "display(code_df.head(3))"
   ]
  },
  {
   "cell_type": "code",
   "execution_count": 379,
   "metadata": {},
   "outputs": [
    {
     "data": {
      "text/html": [
       "<div>\n",
       "<style scoped>\n",
       "    .dataframe tbody tr th:only-of-type {\n",
       "        vertical-align: middle;\n",
       "    }\n",
       "\n",
       "    .dataframe tbody tr th {\n",
       "        vertical-align: top;\n",
       "    }\n",
       "\n",
       "    .dataframe thead th {\n",
       "        text-align: right;\n",
       "    }\n",
       "</style>\n",
       "<table border=\"1\" class=\"dataframe\">\n",
       "  <thead>\n",
       "    <tr style=\"text-align: right;\">\n",
       "      <th></th>\n",
       "      <th>Gen_Lang</th>\n",
       "      <th>ID</th>\n",
       "      <th>Gen_Number</th>\n",
       "      <th>Matched_Number</th>\n",
       "      <th>Area</th>\n",
       "      <th>Chapter</th>\n",
       "      <th>Name</th>\n",
       "      <th>Description</th>\n",
       "      <th>exact_match</th>\n",
       "    </tr>\n",
       "  </thead>\n",
       "  <tbody>\n",
       "    <tr>\n",
       "      <th>28</th>\n",
       "      <td>0</td>\n",
       "      <td>26A</td>\n",
       "      <td>3</td>\n",
       "      <td>3</td>\n",
       "      <td>Morphology</td>\n",
       "      <td>Prefixing vs. Suffixing in Inflectional Morpho...</td>\n",
       "      <td>Weakly suffixing</td>\n",
       "      <td>Moderate preference for suffixing</td>\n",
       "      <td>True</td>\n",
       "    </tr>\n",
       "    <tr>\n",
       "      <th>35</th>\n",
       "      <td>0</td>\n",
       "      <td>33A</td>\n",
       "      <td>1</td>\n",
       "      <td>1</td>\n",
       "      <td>Nominal Categories</td>\n",
       "      <td>Coding of Nominal Plurality</td>\n",
       "      <td>Plural prefix</td>\n",
       "      <td>Plural prefix</td>\n",
       "      <td>True</td>\n",
       "    </tr>\n",
       "    <tr>\n",
       "      <th>54</th>\n",
       "      <td>0</td>\n",
       "      <td>51A</td>\n",
       "      <td>1</td>\n",
       "      <td>1</td>\n",
       "      <td>Nominal Categories</td>\n",
       "      <td>Position of Case Affixes</td>\n",
       "      <td>Case suffixes</td>\n",
       "      <td>Case suffixes</td>\n",
       "      <td>True</td>\n",
       "    </tr>\n",
       "  </tbody>\n",
       "</table>\n",
       "</div>"
      ],
      "text/plain": [
       "   Gen_Lang   ID Gen_Number  Matched_Number                Area  \\\n",
       "28        0  26A          3               3          Morphology   \n",
       "35        0  33A          1               1  Nominal Categories   \n",
       "54        0  51A          1               1  Nominal Categories   \n",
       "\n",
       "                                              Chapter              Name  \\\n",
       "28  Prefixing vs. Suffixing in Inflectional Morpho...  Weakly suffixing   \n",
       "35                        Coding of Nominal Plurality     Plural prefix   \n",
       "54                           Position of Case Affixes     Case suffixes   \n",
       "\n",
       "                          Description  exact_match  \n",
       "28  Moderate preference for suffixing         True  \n",
       "35                      Plural prefix         True  \n",
       "54                      Case suffixes         True  "
      ]
     },
     "execution_count": 379,
     "metadata": {},
     "output_type": "execute_result"
    }
   ],
   "source": [
    "generated_parameters_df = (pd.DataFrame(\n",
    "    #generated_parameters[generated_parameters[:, 2] > 0], \n",
    "    generated_parameters, \n",
    "    columns=[\"Gen_Lang\", \"ID\", \"Gen_Number\"]\n",
    "    ).merge(param_df[[\"ID\"]].reset_index(), on=\"ID\", how=\"left\"))\n",
    "\n",
    "codes = code_df.to_numpy()\n",
    "generated_codes = generated_parameters_df[[\"ID\", \"Gen_Number\"]].to_numpy()\n",
    "closest_matched_codes = [codes[codes[:, 0] == c[0]][(np.abs(codes[codes[:, 0] == c[0]][:, 3] - c[1])).argmin(), 1:4] for c in generated_codes]\n",
    "\n",
    "closest_matched_codes_df = pd.DataFrame(closest_matched_codes, columns=[\"Name\", \"Description\", \"Matched_Number\"])\n",
    "\n",
    "generated_parameters_df = pd.concat([generated_parameters_df,closest_matched_codes_df],axis=1)[[\"Gen_Lang\", \"ID\", \"Gen_Number\", \"Matched_Number\", \"Area\", \"Chapter\", \"Name\", \"Description\"]]\n",
    "generated_parameters_df.loc[generated_parameters_df[\"Gen_Number\"] == 0, \"Matched_Number\"] = 0\n",
    "generated_parameters_df[\"exact_match\"] = generated_parameters_df.Gen_Number == generated_parameters_df.Matched_Number\n",
    "\n",
    "selected_parameters_df = generated_parameters_df.loc[generated_parameters_df[\"Gen_Number\"] > 0]\n",
    "selected_parameters_df.head(3)"
   ]
  },
  {
   "cell_type": "code",
   "execution_count": 380,
   "metadata": {},
   "outputs": [
    {
     "data": {
      "text/plain": [
       "exact_match\n",
       "True     1906\n",
       "False     146\n",
       "Name: count, dtype: int64"
      ]
     },
     "execution_count": 380,
     "metadata": {},
     "output_type": "execute_result"
    }
   ],
   "source": [
    "selected_parameters_df.exact_match.value_counts()"
   ]
  },
  {
   "cell_type": "code",
   "execution_count": 376,
   "metadata": {},
   "outputs": [],
   "source": [
    "# check we have the corrct number of generated languages\n",
    "assert len(selected_parameters_df.Gen_Lang.unique()) == len(generated) == len(weirdness)"
   ]
  }
 ],
 "metadata": {
  "kernelspec": {
   "display_name": "Python 3 (ipykernel)",
   "language": "python",
   "name": "python3"
  },
  "language_info": {
   "codemirror_mode": {
    "name": "ipython",
    "version": 3
   },
   "file_extension": ".py",
   "mimetype": "text/x-python",
   "name": "python",
   "nbconvert_exporter": "python",
   "pygments_lexer": "ipython3",
   "version": "3.12.4"
  }
 },
 "nbformat": 4,
 "nbformat_minor": 4
}
